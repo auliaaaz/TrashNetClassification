{
  "metadata": {
    "kernelspec": {
      "display_name": "Python 3",
      "name": "python3"
    },
    "language_info": {
      "name": "python",
      "version": "3.10.12",
      "mimetype": "text/x-python",
      "codemirror_mode": {
        "name": "ipython",
        "version": 3
      },
      "pygments_lexer": "ipython3",
      "nbconvert_exporter": "python",
      "file_extension": ".py"
    },
    "kaggle": {
      "accelerator": "gpu",
      "dataSources": [],
      "dockerImageVersionId": 30822,
      "isInternetEnabled": true,
      "language": "python",
      "sourceType": "notebook",
      "isGpuEnabled": true
    },
    "colab": {
      "provenance": [],
      "gpuType": "T4"
    },
    "accelerator": "GPU"
  },
  "nbformat_minor": 0,
  "nbformat": 4,
  "cells": [
    {
      "cell_type": "markdown",
      "source": [
        "## Load and Preprocessing Data"
      ],
      "metadata": {
        "id": "15T36lSVfj3o"
      }
    },
    {
      "cell_type": "code",
      "source": [
        "from datasets import load_dataset\n",
        "from collections import Counter\n",
        "import matplotlib.pyplot as plt\n",
        "import pandas as pd\n",
        "import numpy as np\n",
        "import os\n",
        "\n",
        "from sklearn.model_selection import train_test_split\n",
        "from torch.utils.data import Subset\n",
        "from torchvision import transforms\n",
        "\n",
        "import wandb\n",
        "import torch\n",
        "import torch.nn as nn\n",
        "from torch.utils.data import Dataset\n",
        "from torch.utils.data import DataLoader\n",
        "import torch.optim as optim\n",
        "import torchvision.models as models\n",
        "\n",
        "from tqdm import tqdm\n",
        "import seaborn as sns\n",
        "from sklearn.metrics import confusion_matrix, classification_report"
      ],
      "metadata": {
        "trusted": true,
        "execution": {
          "iopub.status.busy": "2024-12-21T09:38:53.933078Z",
          "iopub.execute_input": "2024-12-21T09:38:53.933362Z",
          "iopub.status.idle": "2024-12-21T09:39:01.531224Z",
          "shell.execute_reply.started": "2024-12-21T09:38:53.933339Z",
          "shell.execute_reply": "2024-12-21T09:39:01.530346Z"
        },
        "id": "iw87Qv7OTR-o"
      },
      "outputs": [],
      "execution_count": null
    },
    {
      "cell_type": "code",
      "source": [
        "ds = load_dataset(\"garythung/trashnet\")"
      ],
      "metadata": {
        "trusted": true,
        "execution": {
          "iopub.status.busy": "2024-12-21T09:39:01.532701Z",
          "iopub.execute_input": "2024-12-21T09:39:01.532938Z",
          "iopub.status.idle": "2024-12-21T09:39:26.436110Z",
          "shell.execute_reply.started": "2024-12-21T09:39:01.532915Z",
          "shell.execute_reply": "2024-12-21T09:39:26.435479Z"
        },
        "id": "1zcvPIIvTR-q"
      },
      "outputs": [],
      "execution_count": null
    },
    {
      "cell_type": "code",
      "source": [
        "ds"
      ],
      "metadata": {
        "trusted": true,
        "execution": {
          "iopub.status.busy": "2024-12-21T09:39:26.437328Z",
          "iopub.execute_input": "2024-12-21T09:39:26.437631Z",
          "iopub.status.idle": "2024-12-21T09:39:26.441905Z",
          "shell.execute_reply.started": "2024-12-21T09:39:26.437601Z",
          "shell.execute_reply": "2024-12-21T09:39:26.441336Z"
        },
        "id": "5XAdH8UiTR-q"
      },
      "outputs": [],
      "execution_count": null
    },
    {
      "cell_type": "code",
      "source": [
        "labels = ds['train']['label']\n",
        "unique_labels, counts = np.unique(labels, return_counts=True)\n",
        "class_distribution = dict(zip(unique_labels, counts))\n",
        "print(\"\\nclass distribution:\", class_distribution)\n",
        "\n",
        "plt.bar(unique_labels, counts)\n",
        "plt.xlabel(\"Labels\")\n",
        "plt.ylabel(\"Count\")\n",
        "plt.title(\"Class Distribution\")\n",
        "plt.show()"
      ],
      "metadata": {
        "trusted": true,
        "execution": {
          "iopub.status.busy": "2024-12-21T09:39:26.442589Z",
          "iopub.execute_input": "2024-12-21T09:39:26.442851Z",
          "iopub.status.idle": "2024-12-21T09:39:30.593185Z",
          "shell.execute_reply.started": "2024-12-21T09:39:26.442825Z",
          "shell.execute_reply": "2024-12-21T09:39:30.592321Z"
        },
        "id": "oh-eU7T4TR-r"
      },
      "outputs": [],
      "execution_count": null
    },
    {
      "cell_type": "code",
      "source": [
        "total_samples = len(ds['train'])\n",
        "num_classes = len(unique_labels)\n",
        "\n",
        "print(\"\\nTotal samples:\", total_samples)\n",
        "print(\"Number of classes:\", num_classes)"
      ],
      "metadata": {
        "trusted": true,
        "execution": {
          "iopub.status.busy": "2024-12-21T09:39:30.593965Z",
          "iopub.execute_input": "2024-12-21T09:39:30.594277Z",
          "iopub.status.idle": "2024-12-21T09:39:30.661350Z",
          "shell.execute_reply.started": "2024-12-21T09:39:30.594246Z",
          "shell.execute_reply": "2024-12-21T09:39:30.660579Z"
        },
        "id": "hpHYmg9tTR-r"
      },
      "outputs": [],
      "execution_count": null
    },
    {
      "cell_type": "code",
      "source": [
        "unique_sizes = set()\n",
        "total_images = len(ds['train'])\n",
        "\n",
        "for i in range(0, total_images, 100):\n",
        "    img = ds['train'][i]['image']\n",
        "    unique_sizes.add(img.size)\n",
        "    if i % 100 == 0:\n",
        "        print(f\"Processed {i}/{total_images} images\")\n",
        "\n",
        "print(\"\\nunique sizes of image:\", list(unique_sizes))"
      ],
      "metadata": {
        "trusted": true,
        "execution": {
          "iopub.status.busy": "2024-12-21T09:39:30.662988Z",
          "iopub.execute_input": "2024-12-21T09:39:30.663313Z",
          "iopub.status.idle": "2024-12-21T09:39:35.855990Z",
          "shell.execute_reply.started": "2024-12-21T09:39:30.663289Z",
          "shell.execute_reply": "2024-12-21T09:39:35.855291Z"
        },
        "id": "vx3kZDYtTR-s"
      },
      "outputs": [],
      "execution_count": null
    },
    {
      "cell_type": "markdown",
      "source": [
        "Handling Image Sizes:\n",
        "Handling a variety of image sizes involves transforming all images into uniform dimensions, in this case,\n",
        "224\n",
        "×\n",
        "224\n",
        ". This reduces computational memory and time. However, on the downside, it may lead to a significant loss of information from the images (especially those larger than 1000 pixels). Therefore, having ample computational resources would be beneficial for processing larger datasets, which could better represent real-world scenarios."
      ],
      "metadata": {
        "id": "ipH_-ArVcESU"
      }
    },
    {
      "cell_type": "markdown",
      "source": [
        "Handling Imbalanced Data:\n",
        "To address the issue of imbalanced data, particularly for class number '5,' we apply a weighting strategy in the CrossEntropyLoss function. The weights are calculated inversely proportional to the class frequencies, ensuring that the model assigns greater importance to the minority class during training\n",
        "\n",
        "Real-World Applicability:\n",
        "Although the primary goal is to achieve high accuracy for this dataset, this approach may still have limitations when applied to real-world scenarios. Real-world cases often require a more diverse and extensive dataset to develop a model that achieves higher accuracy and robustness."
      ],
      "metadata": {
        "id": "dRsCrsCOTR-t"
      }
    },
    {
      "cell_type": "markdown",
      "source": [
        "### Split Dataset into Training and Validation"
      ],
      "metadata": {
        "id": "wmy8v5lYfvtd"
      }
    },
    {
      "cell_type": "markdown",
      "source": [
        "Since, the number of dataset is not too large to train, that's why the dataset splitted only into 2 set"
      ],
      "metadata": {
        "id": "PCNOSBvmf31Q"
      }
    },
    {
      "cell_type": "code",
      "source": [
        "ds_index = list(range(len(ds['train'])))\n",
        "train_index, val_index = train_test_split(\n",
        "    ds_index, test_size=0.2, random_state=42, stratify=ds['train']['label'])\n",
        "\n",
        "train_dataset = Subset(ds['train'], train_index)\n",
        "val_dataset = Subset(ds['train'], val_index)\n",
        "print(\"train size:\", len(train_dataset))\n",
        "print(\"validation size:\", len(val_dataset))"
      ],
      "metadata": {
        "trusted": true,
        "execution": {
          "iopub.status.busy": "2024-12-21T09:39:35.856959Z",
          "iopub.execute_input": "2024-12-21T09:39:35.857199Z",
          "iopub.status.idle": "2024-12-21T09:39:35.870455Z",
          "shell.execute_reply.started": "2024-12-21T09:39:35.857175Z",
          "shell.execute_reply": "2024-12-21T09:39:35.869597Z"
        },
        "id": "EzbWOocGTR-u"
      },
      "outputs": [],
      "execution_count": null
    },
    {
      "cell_type": "markdown",
      "source": [
        "### Preprocessing Train and Validation Data"
      ],
      "metadata": {
        "id": "2YvPulYmgG6s"
      }
    },
    {
      "cell_type": "code",
      "source": [
        "train_transform = transforms.Compose([\n",
        "    transforms.Resize((224, 224)),\n",
        "    transforms.RandomHorizontalFlip(),\n",
        "    transforms.RandomRotation(15),\n",
        "    transforms.ToTensor(),\n",
        "    transforms.Normalize([0.485, 0.456, 0.406], [0.229, 0.224, 0.225])\n",
        "])\n",
        "\n",
        "val_transform = transforms.Compose([\n",
        "    transforms.Resize((224, 224)),\n",
        "    transforms.ToTensor(),\n",
        "    transforms.Normalize([0.485, 0.456, 0.406], [0.229, 0.224, 0.225])\n",
        "])"
      ],
      "metadata": {
        "trusted": true,
        "execution": {
          "iopub.status.busy": "2024-12-21T09:39:35.871324Z",
          "iopub.execute_input": "2024-12-21T09:39:35.871635Z",
          "iopub.status.idle": "2024-12-21T09:39:35.886600Z",
          "shell.execute_reply.started": "2024-12-21T09:39:35.871610Z",
          "shell.execute_reply": "2024-12-21T09:39:35.885798Z"
        },
        "id": "6Pk3xZbZTR-v"
      },
      "outputs": [],
      "execution_count": null
    },
    {
      "cell_type": "code",
      "source": [
        "from torch.utils.data import Dataset\n",
        "class SimpleTrashDataset(Dataset):\n",
        "    def __init__(self, dataset, indices, transform=None):\n",
        "        self.dataset = dataset\n",
        "        self.indices = indices\n",
        "        self.transform = transform\n",
        "\n",
        "    def __len__(self):\n",
        "        return len(self.indices)\n",
        "\n",
        "    def __getitem__(self, idx):\n",
        "        image = self.dataset[self.indices[idx]]['image']\n",
        "        label = self.dataset[self.indices[idx]]['label']\n",
        "        if self.transform:\n",
        "            image = self.transform(image)\n",
        "\n",
        "        return image, label\n",
        "\n",
        "train_dataset = SimpleTrashDataset(ds['train'], train_index, train_transform)\n",
        "val_dataset = SimpleTrashDataset(ds['train'], val_index, val_transform)\n"
      ],
      "metadata": {
        "trusted": true,
        "execution": {
          "iopub.status.busy": "2024-12-21T09:39:35.887406Z",
          "iopub.execute_input": "2024-12-21T09:39:35.887630Z",
          "iopub.status.idle": "2024-12-21T09:39:35.906865Z",
          "shell.execute_reply.started": "2024-12-21T09:39:35.887610Z",
          "shell.execute_reply": "2024-12-21T09:39:35.906178Z"
        },
        "id": "VGR3sNIdTR-w"
      },
      "outputs": [],
      "execution_count": null
    },
    {
      "cell_type": "code",
      "source": [
        "train_loader = DataLoader(\n",
        "    train_dataset,\n",
        "    batch_size=32,\n",
        "    num_workers=2,\n",
        "    pin_memory=True\n",
        ")\n",
        "\n",
        "val_loader = DataLoader(\n",
        "    val_dataset,\n",
        "    batch_size=32,\n",
        "    shuffle=False,\n",
        "    num_workers=0,\n",
        "    pin_memory=True\n",
        ")\n",
        "\n",
        "for images, labels in train_loader:\n",
        "    print(f\"Batch size: {images.size(0)}\")\n",
        "    break"
      ],
      "metadata": {
        "trusted": true,
        "execution": {
          "iopub.status.busy": "2024-12-21T12:03:16.394535Z",
          "iopub.execute_input": "2024-12-21T12:03:16.394861Z",
          "iopub.status.idle": "2024-12-21T12:04:04.349667Z",
          "shell.execute_reply.started": "2024-12-21T12:03:16.394834Z",
          "shell.execute_reply": "2024-12-21T12:04:04.348519Z"
        },
        "id": "2EkfAP_tTR-w"
      },
      "outputs": [],
      "execution_count": null
    },
    {
      "cell_type": "markdown",
      "source": [
        "## Setup the Model"
      ],
      "metadata": {
        "id": "-cT4e908gSXw"
      }
    },
    {
      "cell_type": "markdown",
      "source": [
        "Since this notebook will runned on GitHub Action, the chosen model is not too large because it will use CPU system"
      ],
      "metadata": {
        "id": "MxPgfCjAgZVV"
      }
    },
    {
      "cell_type": "code",
      "source": [
        "num_classes = 6\n",
        "model = models.resnet18(weights=models.ResNet18_Weights.DEFAULT)\n",
        "for param in model.fc.parameters():\n",
        "    param.requires_grad = False\n",
        "\n",
        "for layer in [model.layer4]:\n",
        "    for param in layer.parameters():\n",
        "        param.requires_grad = True\n",
        "\n",
        "num_features = model.fc.in_features\n",
        "model.fc = nn.Sequential(\n",
        "    nn.Linear(num_features, 256),\n",
        "    nn.ReLU(),\n",
        "    nn.Dropout(0.3),\n",
        "    nn.Linear(256, num_classes)\n",
        ")"
      ],
      "metadata": {
        "trusted": true,
        "execution": {
          "iopub.status.busy": "2024-12-21T12:04:04.351156Z",
          "iopub.execute_input": "2024-12-21T12:04:04.351506Z",
          "iopub.status.idle": "2024-12-21T12:04:04.831879Z",
          "shell.execute_reply.started": "2024-12-21T12:04:04.351468Z",
          "shell.execute_reply": "2024-12-21T12:04:04.831159Z"
        },
        "id": "ZFDNTNsqTR-w"
      },
      "outputs": [],
      "execution_count": null
    },
    {
      "cell_type": "markdown",
      "source": [
        "This is how imbalance class distribution looks like in a batch"
      ],
      "metadata": {
        "id": "pE5LQu9OdPgx"
      }
    },
    {
      "cell_type": "code",
      "source": [
        "for images, labels in train_loader:\n",
        "    label_counts = Counter(labels.tolist())\n",
        "    print(f\"Batch class distribution: {label_counts}\")\n",
        "    break"
      ],
      "metadata": {
        "trusted": true,
        "execution": {
          "iopub.status.busy": "2024-12-21T12:04:26.869168Z",
          "iopub.execute_input": "2024-12-21T12:04:26.869477Z",
          "iopub.status.idle": "2024-12-21T12:05:14.769573Z",
          "shell.execute_reply.started": "2024-12-21T12:04:26.869454Z",
          "shell.execute_reply": "2024-12-21T12:05:14.767967Z"
        },
        "id": "z-mBLg8ETR-w"
      },
      "outputs": [],
      "execution_count": null
    },
    {
      "cell_type": "markdown",
      "source": [
        "Apply the inverse method in CrossEntropyLoss to adjust weight of underrepresented class.This weighting strategy ensures that the minority class (class number '5' in this case) contributes proportionally more to the loss function, effectively addressing the imbalance and encouraging the model to pay more attention to underrepresented classes."
      ],
      "metadata": {
        "id": "_4WgCvwWjveX"
      }
    },
    {
      "cell_type": "code",
      "source": [
        "train_labels = ds['train'].select(train_index)['label']\n",
        "\n",
        "class_counts = np.bincount(train_labels)\n",
        "class_weights = 1.0 / class_counts\n",
        "class_weights = class_weights / class_weights.sum() * len(class_counts)\n",
        "class_weights = torch.tensor(class_weights, dtype=torch.float32)\n",
        "print(f\"Class Weights: {class_weights}\")\n",
        "\n",
        "device = torch.device('cuda' if torch.cuda.is_available() else 'cpu')\n",
        "model = model.to(device)\n",
        "class_weights = class_weights.to(device)\n",
        "criterion = torch.nn.CrossEntropyLoss(weight=class_weights.to(device))"
      ],
      "metadata": {
        "trusted": true,
        "execution": {
          "iopub.status.busy": "2024-12-21T12:05:14.771062Z",
          "iopub.execute_input": "2024-12-21T12:05:14.771566Z",
          "iopub.status.idle": "2024-12-21T12:05:14.921730Z",
          "shell.execute_reply.started": "2024-12-21T12:05:14.771514Z",
          "shell.execute_reply": "2024-12-21T12:05:14.920898Z"
        },
        "id": "tMEttJUWTR-w"
      },
      "outputs": [],
      "execution_count": null
    },
    {
      "cell_type": "code",
      "source": [
        "print(f\"Model device: {next(model.parameters()).device}\")\n",
        "print(f\"Class weights device: {class_weights.device}\")"
      ],
      "metadata": {
        "trusted": true,
        "execution": {
          "iopub.status.busy": "2024-12-21T12:05:14.923175Z",
          "iopub.execute_input": "2024-12-21T12:05:14.923461Z",
          "iopub.status.idle": "2024-12-21T12:05:14.928081Z",
          "shell.execute_reply.started": "2024-12-21T12:05:14.923437Z",
          "shell.execute_reply": "2024-12-21T12:05:14.927188Z"
        },
        "id": "oZSfhpjtTR-x"
      },
      "outputs": [],
      "execution_count": null
    },
    {
      "cell_type": "code",
      "source": [
        "wandb.login()"
      ],
      "metadata": {
        "trusted": true,
        "execution": {
          "iopub.status.busy": "2024-12-21T09:40:58.824911Z",
          "iopub.execute_input": "2024-12-21T09:40:58.825224Z",
          "iopub.status.idle": "2024-12-21T09:41:01.278792Z",
          "shell.execute_reply.started": "2024-12-21T09:40:58.825198Z",
          "shell.execute_reply": "2024-12-21T09:41:01.277905Z"
        },
        "id": "cuBxEjmqTR-x"
      },
      "outputs": [],
      "execution_count": null
    },
    {
      "cell_type": "markdown",
      "source": [
        "### Setup W&B Hyperparameter Configuration"
      ],
      "metadata": {
        "id": "5kZB6BuojJ6D"
      }
    },
    {
      "cell_type": "code",
      "source": [
        "configs = {\n",
        "        \"learning_rate\": 0.0001,\n",
        "        \"optimizer\": \"adam\",\n",
        "        \"dropout_rate\": 0.4,\n",
        "        \"epochs\": 20,\n",
        "        \"num_classes\":6}\n",
        "\n",
        "if configs[\"optimizer\"] == 'adam':\n",
        "    optimizer = optim.Adam(model.parameters(), lr=configs[\"learning_rate\"])\n",
        "elif configs[\"optimizer\"] == 'sgd':\n",
        "    optimizer = optim.SGD(\n",
        "        model.parameters(),\n",
        "        lr=configs[\"learning_rate\"],)"
      ],
      "metadata": {
        "trusted": true,
        "execution": {
          "iopub.status.busy": "2024-12-21T12:46:33.587808Z",
          "iopub.execute_input": "2024-12-21T12:46:33.588123Z",
          "iopub.status.idle": "2024-12-21T12:46:33.592236Z",
          "shell.execute_reply.started": "2024-12-21T12:46:33.588073Z",
          "shell.execute_reply": "2024-12-21T12:46:33.591382Z"
        },
        "id": "zJpxXnJqTR-x"
      },
      "outputs": [],
      "execution_count": null
    },
    {
      "cell_type": "code",
      "source": [
        "wandb.init(\n",
        "    project=\"trash-image-classification\",\n",
        "    name=f\"run_resnet18_\",\n",
        "    config=configs,\n",
        "    notes=\"Training ResNet with class weights\"\n",
        ")"
      ],
      "metadata": {
        "trusted": true,
        "execution": {
          "iopub.status.busy": "2024-12-21T12:46:47.673798Z",
          "iopub.execute_input": "2024-12-21T12:46:47.674091Z"
        },
        "id": "P2-LTNXPTR-x"
      },
      "outputs": [],
      "execution_count": null
    },
    {
      "cell_type": "markdown",
      "source": [
        "### Training"
      ],
      "metadata": {
        "id": "XEnzasNejVM_"
      }
    },
    {
      "cell_type": "code",
      "source": [
        "best_acc = 0.0\n",
        "for epoch in range(configs[\"epochs\"]):\n",
        "        print(f'\\nEpoch {epoch+1}/{configs[\"epochs\"]}')\n",
        "        print('-' * 10)\n",
        "\n",
        "        # Training phase\n",
        "        model.train()\n",
        "        running_loss = 0.0\n",
        "        epoch_loss = 0.0\n",
        "        correct_train = 0\n",
        "        total_train = 0\n",
        "\n",
        "        for batch_idx, (images, labels) in enumerate(train_loader):\n",
        "            images, labels = images.to(device), labels.to(device)\n",
        "            optimizer.zero_grad()\n",
        "            outputs = model(images)\n",
        "            loss = criterion(outputs, labels)\n",
        "            loss.backward()\n",
        "            optimizer.step()\n",
        "\n",
        "            running_loss += loss.item()\n",
        "            epoch_loss += loss.item()\n",
        "\n",
        "            _, predicted = torch.max(outputs, 1)\n",
        "            total_train += labels.size(0)\n",
        "            correct_train += (predicted == labels).sum().item()\n",
        "\n",
        "            if batch_idx % 20 == 19:\n",
        "                avg_loss = running_loss / 20\n",
        "                train_accuracy = 100 * correct_train / total_train\n",
        "                print(f'Batch {batch_idx+1}, Loss: {avg_loss:.4f}, Accuracy: {train_accuracy:.2f}%')\n",
        "                wandb.log({\n",
        "                    \"batch_loss\": avg_loss,\n",
        "                    \"epoch\": epoch,\n",
        "                    \"batch\": batch_idx,\n",
        "                    \"batch_accuracy\": train_accuracy\n",
        "                })\n",
        "                running_loss = 0.0\n",
        "\n",
        "        epoch_loss = epoch_loss / len(train_loader)\n",
        "        epoch_accuracy = 100 * correct_train / total_train\n",
        "\n",
        "        # Validation phase\n",
        "        model.eval()\n",
        "        val_loss = 0.0\n",
        "        correct = 0\n",
        "        total = 0\n",
        "        class_correct = {i: 0 for i in range(configs[\"num_classes\"])}\n",
        "        class_total = {i: 0 for i in range(configs[\"num_classes\"])}\n",
        "\n",
        "        with torch.no_grad():\n",
        "            for images, labels in val_loader:\n",
        "                images, labels = images.to(device), labels.to(device)\n",
        "                outputs = model(images)\n",
        "                loss = criterion(outputs, labels)\n",
        "                val_loss += loss.item()\n",
        "\n",
        "                _, predicted = torch.max(outputs, 1)\n",
        "                total += labels.size(0)\n",
        "                correct += (predicted == labels).sum().item()\n",
        "\n",
        "                for label, pred in zip(labels, predicted):\n",
        "                    if label == pred:\n",
        "                        class_correct[label.item()] += 1\n",
        "                    class_total[label.item()] += 1\n",
        "\n",
        "        val_loss /= len(val_loader)\n",
        "        val_accuracy = 100 * correct / total\n",
        "        class_accuracies = {\n",
        "            f\"class_{i}\": 100 * class_correct[i] / class_total[i] if class_total[i] > 0 else 0\n",
        "            for i in range(configs[\"num_classes\"])\n",
        "        }\n",
        "\n",
        "        print(f'\\nEpoch Summary:')\n",
        "        print(f'Training Loss: {epoch_loss:.4f}, Training Accuracy: {epoch_accuracy:.2f}%')\n",
        "        print(f'Validation Loss: {val_loss:.4f}, Validation Accuracy: {val_accuracy:.2f}%')\n",
        "        for class_idx, acc in class_accuracies.items():\n",
        "            print(f\"{class_idx}: {acc:.2f}%\")\n",
        "\n",
        "        wandb.log({\n",
        "            \"epoch\": epoch,\n",
        "            \"train_loss\": epoch_loss,\n",
        "            \"train_accuracy\": epoch_accuracy,\n",
        "            \"val_loss\": val_loss,\n",
        "            \"val_accuracy\": val_accuracy,\n",
        "            **{f\"class_{k}_accuracy\": v for k, v in class_accuracies.items()}\n",
        "        })\n",
        "\n",
        "        if val_accuracy > best_acc:\n",
        "            best_acc = val_accuracy\n",
        "            torch.save({\n",
        "                'epoch': epoch,\n",
        "                'model_state_dict': model.state_dict(),\n",
        "                'optimizer_state_dict': optimizer.state_dict(),\n",
        "                'accuracy': val_accuracy\n",
        "            }, 'best_model.pth')\n",
        "            if wandb.run:\n",
        "                wandb.save('best_model.pth')\n",
        "            print(f\"\\nCheckpoint saved: 'best_model.pth'\")"
      ],
      "metadata": {
        "trusted": true,
        "execution": {
          "iopub.status.busy": "2024-12-21T12:44:01.836433Z",
          "iopub.execute_input": "2024-12-21T12:44:01.836764Z",
          "iopub.status.idle": "2024-12-21T12:44:07.170639Z",
          "shell.execute_reply.started": "2024-12-21T12:44:01.836734Z",
          "shell.execute_reply": "2024-12-21T12:44:07.169935Z"
        },
        "id": "iElN94yiTR-z"
      },
      "outputs": [],
      "execution_count": null
    },
    {
      "cell_type": "code",
      "source": [
        "wandb.finish()"
      ],
      "metadata": {
        "id": "hktaefTSvWpQ"
      },
      "execution_count": null,
      "outputs": []
    },
    {
      "cell_type": "markdown",
      "source": [
        "### Evaluation"
      ],
      "metadata": {
        "id": "9CGPJcByjYf4"
      }
    },
    {
      "cell_type": "code",
      "source": [
        "checkpoint = torch.load('best_model.pth', map_location='cpu')\n",
        "model.load_state_dict(checkpoint['model_state_dict'])"
      ],
      "metadata": {
        "id": "D1FFasq-QaK4"
      },
      "execution_count": null,
      "outputs": []
    },
    {
      "cell_type": "code",
      "source": [
        "device = torch.device(\"cuda\" if torch.cuda.is_available() else \"cpu\")\n",
        "model.to(device)\n",
        "\n",
        "all_preds = []\n",
        "all_labels = []\n",
        "test_correct = 0\n",
        "test_total = 0\n",
        "\n",
        "with torch.no_grad():\n",
        "    model.eval()\n",
        "    for images, labels in val_loader:\n",
        "        images, labels = images.to(device), labels.to(device)\n",
        "\n",
        "        outputs = model(images)\n",
        "        _, predicted = torch.max(outputs, 1)\n",
        "\n",
        "        all_preds.extend(predicted.cpu().numpy())\n",
        "        all_labels.extend(labels.cpu().numpy())\n",
        "\n",
        "        test_total += labels.size(0)\n",
        "        test_correct += (predicted == labels).sum().item()\n",
        "test_accuracy = 100 * test_correct / test_total\n",
        "print(f'Test Accuracy: {test_accuracy:.2f}%')"
      ],
      "metadata": {
        "id": "ZbDceBOGRk2n"
      },
      "execution_count": null,
      "outputs": []
    },
    {
      "cell_type": "code",
      "source": [
        "class_names = ['cardboard', 'glass', 'metal', 'paper', 'plastic', 'trash']\n",
        "cm = confusion_matrix(all_labels, all_preds)\n",
        "\n",
        "plt.figure(figsize=(10, 8))\n",
        "sns.heatmap(cm, annot=True, fmt='d', cmap='Blues',\n",
        "            xticklabels=class_names,\n",
        "            yticklabels=class_names)\n",
        "plt.xlabel('Predicted')\n",
        "plt.ylabel('True')\n",
        "plt.title('Confusion Matrix')\n",
        "plt.show()"
      ],
      "metadata": {
        "id": "sjV6gLerSBu6"
      },
      "execution_count": null,
      "outputs": []
    },
    {
      "cell_type": "code",
      "source": [
        "print(\"\\nClassification Report:\")\n",
        "print(classification_report(all_labels, all_preds, target_names=class_names))"
      ],
      "metadata": {
        "id": "a0B5DdWPT_7P"
      },
      "execution_count": null,
      "outputs": []
    }
  ]
}