{
  "metadata": {
    "kernelspec": {
      "display_name": "Python 3",
      "name": "python3"
    },
    "language_info": {
      "name": "python",
      "version": "3.10.12",
      "mimetype": "text/x-python",
      "codemirror_mode": {
        "name": "ipython",
        "version": 3
      },
      "pygments_lexer": "ipython3",
      "nbconvert_exporter": "python",
      "file_extension": ".py"
    },
    "kaggle": {
      "accelerator": "gpu",
      "dataSources": [],
      "dockerImageVersionId": 30822,
      "isInternetEnabled": true,
      "language": "python",
      "sourceType": "notebook",
      "isGpuEnabled": true
    },
    "colab": {
      "provenance": [],
      "gpuType": "T4"
    },
    "accelerator": "GPU",
    "widgets": {
      "application/vnd.jupyter.widget-state+json": {
        "286ccc91d8094056bd7bfb67a7efdb96": {
          "model_module": "@jupyter-widgets/controls",
          "model_name": "HBoxModel",
          "model_module_version": "1.5.0",
          "state": {
            "_dom_classes": [],
            "_model_module": "@jupyter-widgets/controls",
            "_model_module_version": "1.5.0",
            "_model_name": "HBoxModel",
            "_view_count": null,
            "_view_module": "@jupyter-widgets/controls",
            "_view_module_version": "1.5.0",
            "_view_name": "HBoxView",
            "box_style": "",
            "children": [
              "IPY_MODEL_cc9562e04e8f44c49a3db2c8add5f101",
              "IPY_MODEL_67adc2548c41459298e64ee89d2b1eec",
              "IPY_MODEL_74f669b9d69a487cb21b26746f0b125c"
            ],
            "layout": "IPY_MODEL_117dd5161a4a4586a4633fcc279c3279"
          }
        },
        "cc9562e04e8f44c49a3db2c8add5f101": {
          "model_module": "@jupyter-widgets/controls",
          "model_name": "HTMLModel",
          "model_module_version": "1.5.0",
          "state": {
            "_dom_classes": [],
            "_model_module": "@jupyter-widgets/controls",
            "_model_module_version": "1.5.0",
            "_model_name": "HTMLModel",
            "_view_count": null,
            "_view_module": "@jupyter-widgets/controls",
            "_view_module_version": "1.5.0",
            "_view_name": "HTMLView",
            "description": "",
            "description_tooltip": null,
            "layout": "IPY_MODEL_68106666a6a649e3baf701583bd154d6",
            "placeholder": "​",
            "style": "IPY_MODEL_6c83555e7fa946158087e9fd4dde0d9b",
            "value": "README.md: 100%"
          }
        },
        "67adc2548c41459298e64ee89d2b1eec": {
          "model_module": "@jupyter-widgets/controls",
          "model_name": "FloatProgressModel",
          "model_module_version": "1.5.0",
          "state": {
            "_dom_classes": [],
            "_model_module": "@jupyter-widgets/controls",
            "_model_module_version": "1.5.0",
            "_model_name": "FloatProgressModel",
            "_view_count": null,
            "_view_module": "@jupyter-widgets/controls",
            "_view_module_version": "1.5.0",
            "_view_name": "ProgressView",
            "bar_style": "success",
            "description": "",
            "description_tooltip": null,
            "layout": "IPY_MODEL_326d08d4584840509680b3861e54c66e",
            "max": 21,
            "min": 0,
            "orientation": "horizontal",
            "style": "IPY_MODEL_59a439991785478d952e4db6a10d9356",
            "value": 21
          }
        },
        "74f669b9d69a487cb21b26746f0b125c": {
          "model_module": "@jupyter-widgets/controls",
          "model_name": "HTMLModel",
          "model_module_version": "1.5.0",
          "state": {
            "_dom_classes": [],
            "_model_module": "@jupyter-widgets/controls",
            "_model_module_version": "1.5.0",
            "_model_name": "HTMLModel",
            "_view_count": null,
            "_view_module": "@jupyter-widgets/controls",
            "_view_module_version": "1.5.0",
            "_view_name": "HTMLView",
            "description": "",
            "description_tooltip": null,
            "layout": "IPY_MODEL_9fd232cf1e2747fbb8d4ad237fba10e8",
            "placeholder": "​",
            "style": "IPY_MODEL_6a1fcff1ffeb42deb5edbe5ec56404b5",
            "value": " 21.0/21.0 [00:00&lt;00:00, 466B/s]"
          }
        },
        "117dd5161a4a4586a4633fcc279c3279": {
          "model_module": "@jupyter-widgets/base",
          "model_name": "LayoutModel",
          "model_module_version": "1.2.0",
          "state": {
            "_model_module": "@jupyter-widgets/base",
            "_model_module_version": "1.2.0",
            "_model_name": "LayoutModel",
            "_view_count": null,
            "_view_module": "@jupyter-widgets/base",
            "_view_module_version": "1.2.0",
            "_view_name": "LayoutView",
            "align_content": null,
            "align_items": null,
            "align_self": null,
            "border": null,
            "bottom": null,
            "display": null,
            "flex": null,
            "flex_flow": null,
            "grid_area": null,
            "grid_auto_columns": null,
            "grid_auto_flow": null,
            "grid_auto_rows": null,
            "grid_column": null,
            "grid_gap": null,
            "grid_row": null,
            "grid_template_areas": null,
            "grid_template_columns": null,
            "grid_template_rows": null,
            "height": null,
            "justify_content": null,
            "justify_items": null,
            "left": null,
            "margin": null,
            "max_height": null,
            "max_width": null,
            "min_height": null,
            "min_width": null,
            "object_fit": null,
            "object_position": null,
            "order": null,
            "overflow": null,
            "overflow_x": null,
            "overflow_y": null,
            "padding": null,
            "right": null,
            "top": null,
            "visibility": null,
            "width": null
          }
        },
        "68106666a6a649e3baf701583bd154d6": {
          "model_module": "@jupyter-widgets/base",
          "model_name": "LayoutModel",
          "model_module_version": "1.2.0",
          "state": {
            "_model_module": "@jupyter-widgets/base",
            "_model_module_version": "1.2.0",
            "_model_name": "LayoutModel",
            "_view_count": null,
            "_view_module": "@jupyter-widgets/base",
            "_view_module_version": "1.2.0",
            "_view_name": "LayoutView",
            "align_content": null,
            "align_items": null,
            "align_self": null,
            "border": null,
            "bottom": null,
            "display": null,
            "flex": null,
            "flex_flow": null,
            "grid_area": null,
            "grid_auto_columns": null,
            "grid_auto_flow": null,
            "grid_auto_rows": null,
            "grid_column": null,
            "grid_gap": null,
            "grid_row": null,
            "grid_template_areas": null,
            "grid_template_columns": null,
            "grid_template_rows": null,
            "height": null,
            "justify_content": null,
            "justify_items": null,
            "left": null,
            "margin": null,
            "max_height": null,
            "max_width": null,
            "min_height": null,
            "min_width": null,
            "object_fit": null,
            "object_position": null,
            "order": null,
            "overflow": null,
            "overflow_x": null,
            "overflow_y": null,
            "padding": null,
            "right": null,
            "top": null,
            "visibility": null,
            "width": null
          }
        },
        "6c83555e7fa946158087e9fd4dde0d9b": {
          "model_module": "@jupyter-widgets/controls",
          "model_name": "DescriptionStyleModel",
          "model_module_version": "1.5.0",
          "state": {
            "_model_module": "@jupyter-widgets/controls",
            "_model_module_version": "1.5.0",
            "_model_name": "DescriptionStyleModel",
            "_view_count": null,
            "_view_module": "@jupyter-widgets/base",
            "_view_module_version": "1.2.0",
            "_view_name": "StyleView",
            "description_width": ""
          }
        },
        "326d08d4584840509680b3861e54c66e": {
          "model_module": "@jupyter-widgets/base",
          "model_name": "LayoutModel",
          "model_module_version": "1.2.0",
          "state": {
            "_model_module": "@jupyter-widgets/base",
            "_model_module_version": "1.2.0",
            "_model_name": "LayoutModel",
            "_view_count": null,
            "_view_module": "@jupyter-widgets/base",
            "_view_module_version": "1.2.0",
            "_view_name": "LayoutView",
            "align_content": null,
            "align_items": null,
            "align_self": null,
            "border": null,
            "bottom": null,
            "display": null,
            "flex": null,
            "flex_flow": null,
            "grid_area": null,
            "grid_auto_columns": null,
            "grid_auto_flow": null,
            "grid_auto_rows": null,
            "grid_column": null,
            "grid_gap": null,
            "grid_row": null,
            "grid_template_areas": null,
            "grid_template_columns": null,
            "grid_template_rows": null,
            "height": null,
            "justify_content": null,
            "justify_items": null,
            "left": null,
            "margin": null,
            "max_height": null,
            "max_width": null,
            "min_height": null,
            "min_width": null,
            "object_fit": null,
            "object_position": null,
            "order": null,
            "overflow": null,
            "overflow_x": null,
            "overflow_y": null,
            "padding": null,
            "right": null,
            "top": null,
            "visibility": null,
            "width": null
          }
        },
        "59a439991785478d952e4db6a10d9356": {
          "model_module": "@jupyter-widgets/controls",
          "model_name": "ProgressStyleModel",
          "model_module_version": "1.5.0",
          "state": {
            "_model_module": "@jupyter-widgets/controls",
            "_model_module_version": "1.5.0",
            "_model_name": "ProgressStyleModel",
            "_view_count": null,
            "_view_module": "@jupyter-widgets/base",
            "_view_module_version": "1.2.0",
            "_view_name": "StyleView",
            "bar_color": null,
            "description_width": ""
          }
        },
        "9fd232cf1e2747fbb8d4ad237fba10e8": {
          "model_module": "@jupyter-widgets/base",
          "model_name": "LayoutModel",
          "model_module_version": "1.2.0",
          "state": {
            "_model_module": "@jupyter-widgets/base",
            "_model_module_version": "1.2.0",
            "_model_name": "LayoutModel",
            "_view_count": null,
            "_view_module": "@jupyter-widgets/base",
            "_view_module_version": "1.2.0",
            "_view_name": "LayoutView",
            "align_content": null,
            "align_items": null,
            "align_self": null,
            "border": null,
            "bottom": null,
            "display": null,
            "flex": null,
            "flex_flow": null,
            "grid_area": null,
            "grid_auto_columns": null,
            "grid_auto_flow": null,
            "grid_auto_rows": null,
            "grid_column": null,
            "grid_gap": null,
            "grid_row": null,
            "grid_template_areas": null,
            "grid_template_columns": null,
            "grid_template_rows": null,
            "height": null,
            "justify_content": null,
            "justify_items": null,
            "left": null,
            "margin": null,
            "max_height": null,
            "max_width": null,
            "min_height": null,
            "min_width": null,
            "object_fit": null,
            "object_position": null,
            "order": null,
            "overflow": null,
            "overflow_x": null,
            "overflow_y": null,
            "padding": null,
            "right": null,
            "top": null,
            "visibility": null,
            "width": null
          }
        },
        "6a1fcff1ffeb42deb5edbe5ec56404b5": {
          "model_module": "@jupyter-widgets/controls",
          "model_name": "DescriptionStyleModel",
          "model_module_version": "1.5.0",
          "state": {
            "_model_module": "@jupyter-widgets/controls",
            "_model_module_version": "1.5.0",
            "_model_name": "DescriptionStyleModel",
            "_view_count": null,
            "_view_module": "@jupyter-widgets/base",
            "_view_module_version": "1.2.0",
            "_view_name": "StyleView",
            "description_width": ""
          }
        },
        "d6503fa4de7d4c198f76dee045df8afa": {
          "model_module": "@jupyter-widgets/controls",
          "model_name": "HBoxModel",
          "model_module_version": "1.5.0",
          "state": {
            "_dom_classes": [],
            "_model_module": "@jupyter-widgets/controls",
            "_model_module_version": "1.5.0",
            "_model_name": "HBoxModel",
            "_view_count": null,
            "_view_module": "@jupyter-widgets/controls",
            "_view_module_version": "1.5.0",
            "_view_name": "HBoxView",
            "box_style": "",
            "children": [
              "IPY_MODEL_eb102ecb359c4c948a174b3e982a37d2",
              "IPY_MODEL_fbf1132643dd4c1a9324104a30958eb2",
              "IPY_MODEL_df775468526541fda2855ce7de300946"
            ],
            "layout": "IPY_MODEL_60d359f1dd5e425eb83037f5d570c627"
          }
        },
        "eb102ecb359c4c948a174b3e982a37d2": {
          "model_module": "@jupyter-widgets/controls",
          "model_name": "HTMLModel",
          "model_module_version": "1.5.0",
          "state": {
            "_dom_classes": [],
            "_model_module": "@jupyter-widgets/controls",
            "_model_module_version": "1.5.0",
            "_model_name": "HTMLModel",
            "_view_count": null,
            "_view_module": "@jupyter-widgets/controls",
            "_view_module_version": "1.5.0",
            "_view_name": "HTMLView",
            "description": "",
            "description_tooltip": null,
            "layout": "IPY_MODEL_e3a93c0fbbea4654879f497b9a313f0b",
            "placeholder": "​",
            "style": "IPY_MODEL_1133f65c3d27497291832fe151f130a6",
            "value": "dataset-original.zip: 100%"
          }
        },
        "fbf1132643dd4c1a9324104a30958eb2": {
          "model_module": "@jupyter-widgets/controls",
          "model_name": "FloatProgressModel",
          "model_module_version": "1.5.0",
          "state": {
            "_dom_classes": [],
            "_model_module": "@jupyter-widgets/controls",
            "_model_module_version": "1.5.0",
            "_model_name": "FloatProgressModel",
            "_view_count": null,
            "_view_module": "@jupyter-widgets/controls",
            "_view_module_version": "1.5.0",
            "_view_name": "ProgressView",
            "bar_style": "success",
            "description": "",
            "description_tooltip": null,
            "layout": "IPY_MODEL_d3f980f4ba7a499fa7895258a8736f96",
            "max": 3634187193,
            "min": 0,
            "orientation": "horizontal",
            "style": "IPY_MODEL_fa2930b05c204ec7820f9f0eb9f61681",
            "value": 3634187193
          }
        },
        "df775468526541fda2855ce7de300946": {
          "model_module": "@jupyter-widgets/controls",
          "model_name": "HTMLModel",
          "model_module_version": "1.5.0",
          "state": {
            "_dom_classes": [],
            "_model_module": "@jupyter-widgets/controls",
            "_model_module_version": "1.5.0",
            "_model_name": "HTMLModel",
            "_view_count": null,
            "_view_module": "@jupyter-widgets/controls",
            "_view_module_version": "1.5.0",
            "_view_name": "HTMLView",
            "description": "",
            "description_tooltip": null,
            "layout": "IPY_MODEL_030df5982c0e4f6e8453fa049e81247a",
            "placeholder": "​",
            "style": "IPY_MODEL_e5bb9d3170004efa889b2bcf5460b1aa",
            "value": " 3.63G/3.63G [00:25&lt;00:00, 235MB/s]"
          }
        },
        "60d359f1dd5e425eb83037f5d570c627": {
          "model_module": "@jupyter-widgets/base",
          "model_name": "LayoutModel",
          "model_module_version": "1.2.0",
          "state": {
            "_model_module": "@jupyter-widgets/base",
            "_model_module_version": "1.2.0",
            "_model_name": "LayoutModel",
            "_view_count": null,
            "_view_module": "@jupyter-widgets/base",
            "_view_module_version": "1.2.0",
            "_view_name": "LayoutView",
            "align_content": null,
            "align_items": null,
            "align_self": null,
            "border": null,
            "bottom": null,
            "display": null,
            "flex": null,
            "flex_flow": null,
            "grid_area": null,
            "grid_auto_columns": null,
            "grid_auto_flow": null,
            "grid_auto_rows": null,
            "grid_column": null,
            "grid_gap": null,
            "grid_row": null,
            "grid_template_areas": null,
            "grid_template_columns": null,
            "grid_template_rows": null,
            "height": null,
            "justify_content": null,
            "justify_items": null,
            "left": null,
            "margin": null,
            "max_height": null,
            "max_width": null,
            "min_height": null,
            "min_width": null,
            "object_fit": null,
            "object_position": null,
            "order": null,
            "overflow": null,
            "overflow_x": null,
            "overflow_y": null,
            "padding": null,
            "right": null,
            "top": null,
            "visibility": null,
            "width": null
          }
        },
        "e3a93c0fbbea4654879f497b9a313f0b": {
          "model_module": "@jupyter-widgets/base",
          "model_name": "LayoutModel",
          "model_module_version": "1.2.0",
          "state": {
            "_model_module": "@jupyter-widgets/base",
            "_model_module_version": "1.2.0",
            "_model_name": "LayoutModel",
            "_view_count": null,
            "_view_module": "@jupyter-widgets/base",
            "_view_module_version": "1.2.0",
            "_view_name": "LayoutView",
            "align_content": null,
            "align_items": null,
            "align_self": null,
            "border": null,
            "bottom": null,
            "display": null,
            "flex": null,
            "flex_flow": null,
            "grid_area": null,
            "grid_auto_columns": null,
            "grid_auto_flow": null,
            "grid_auto_rows": null,
            "grid_column": null,
            "grid_gap": null,
            "grid_row": null,
            "grid_template_areas": null,
            "grid_template_columns": null,
            "grid_template_rows": null,
            "height": null,
            "justify_content": null,
            "justify_items": null,
            "left": null,
            "margin": null,
            "max_height": null,
            "max_width": null,
            "min_height": null,
            "min_width": null,
            "object_fit": null,
            "object_position": null,
            "order": null,
            "overflow": null,
            "overflow_x": null,
            "overflow_y": null,
            "padding": null,
            "right": null,
            "top": null,
            "visibility": null,
            "width": null
          }
        },
        "1133f65c3d27497291832fe151f130a6": {
          "model_module": "@jupyter-widgets/controls",
          "model_name": "DescriptionStyleModel",
          "model_module_version": "1.5.0",
          "state": {
            "_model_module": "@jupyter-widgets/controls",
            "_model_module_version": "1.5.0",
            "_model_name": "DescriptionStyleModel",
            "_view_count": null,
            "_view_module": "@jupyter-widgets/base",
            "_view_module_version": "1.2.0",
            "_view_name": "StyleView",
            "description_width": ""
          }
        },
        "d3f980f4ba7a499fa7895258a8736f96": {
          "model_module": "@jupyter-widgets/base",
          "model_name": "LayoutModel",
          "model_module_version": "1.2.0",
          "state": {
            "_model_module": "@jupyter-widgets/base",
            "_model_module_version": "1.2.0",
            "_model_name": "LayoutModel",
            "_view_count": null,
            "_view_module": "@jupyter-widgets/base",
            "_view_module_version": "1.2.0",
            "_view_name": "LayoutView",
            "align_content": null,
            "align_items": null,
            "align_self": null,
            "border": null,
            "bottom": null,
            "display": null,
            "flex": null,
            "flex_flow": null,
            "grid_area": null,
            "grid_auto_columns": null,
            "grid_auto_flow": null,
            "grid_auto_rows": null,
            "grid_column": null,
            "grid_gap": null,
            "grid_row": null,
            "grid_template_areas": null,
            "grid_template_columns": null,
            "grid_template_rows": null,
            "height": null,
            "justify_content": null,
            "justify_items": null,
            "left": null,
            "margin": null,
            "max_height": null,
            "max_width": null,
            "min_height": null,
            "min_width": null,
            "object_fit": null,
            "object_position": null,
            "order": null,
            "overflow": null,
            "overflow_x": null,
            "overflow_y": null,
            "padding": null,
            "right": null,
            "top": null,
            "visibility": null,
            "width": null
          }
        },
        "fa2930b05c204ec7820f9f0eb9f61681": {
          "model_module": "@jupyter-widgets/controls",
          "model_name": "ProgressStyleModel",
          "model_module_version": "1.5.0",
          "state": {
            "_model_module": "@jupyter-widgets/controls",
            "_model_module_version": "1.5.0",
            "_model_name": "ProgressStyleModel",
            "_view_count": null,
            "_view_module": "@jupyter-widgets/base",
            "_view_module_version": "1.2.0",
            "_view_name": "StyleView",
            "bar_color": null,
            "description_width": ""
          }
        },
        "030df5982c0e4f6e8453fa049e81247a": {
          "model_module": "@jupyter-widgets/base",
          "model_name": "LayoutModel",
          "model_module_version": "1.2.0",
          "state": {
            "_model_module": "@jupyter-widgets/base",
            "_model_module_version": "1.2.0",
            "_model_name": "LayoutModel",
            "_view_count": null,
            "_view_module": "@jupyter-widgets/base",
            "_view_module_version": "1.2.0",
            "_view_name": "LayoutView",
            "align_content": null,
            "align_items": null,
            "align_self": null,
            "border": null,
            "bottom": null,
            "display": null,
            "flex": null,
            "flex_flow": null,
            "grid_area": null,
            "grid_auto_columns": null,
            "grid_auto_flow": null,
            "grid_auto_rows": null,
            "grid_column": null,
            "grid_gap": null,
            "grid_row": null,
            "grid_template_areas": null,
            "grid_template_columns": null,
            "grid_template_rows": null,
            "height": null,
            "justify_content": null,
            "justify_items": null,
            "left": null,
            "margin": null,
            "max_height": null,
            "max_width": null,
            "min_height": null,
            "min_width": null,
            "object_fit": null,
            "object_position": null,
            "order": null,
            "overflow": null,
            "overflow_x": null,
            "overflow_y": null,
            "padding": null,
            "right": null,
            "top": null,
            "visibility": null,
            "width": null
          }
        },
        "e5bb9d3170004efa889b2bcf5460b1aa": {
          "model_module": "@jupyter-widgets/controls",
          "model_name": "DescriptionStyleModel",
          "model_module_version": "1.5.0",
          "state": {
            "_model_module": "@jupyter-widgets/controls",
            "_model_module_version": "1.5.0",
            "_model_name": "DescriptionStyleModel",
            "_view_count": null,
            "_view_module": "@jupyter-widgets/base",
            "_view_module_version": "1.2.0",
            "_view_name": "StyleView",
            "description_width": ""
          }
        },
        "a6cbb0ef804645efbed4c4ba05cc2e89": {
          "model_module": "@jupyter-widgets/controls",
          "model_name": "HBoxModel",
          "model_module_version": "1.5.0",
          "state": {
            "_dom_classes": [],
            "_model_module": "@jupyter-widgets/controls",
            "_model_module_version": "1.5.0",
            "_model_name": "HBoxModel",
            "_view_count": null,
            "_view_module": "@jupyter-widgets/controls",
            "_view_module_version": "1.5.0",
            "_view_name": "HBoxView",
            "box_style": "",
            "children": [
              "IPY_MODEL_e281e71f3b774716b250a65f4dc6e026",
              "IPY_MODEL_80f05ed8814e45ceb2aacdee9080e297",
              "IPY_MODEL_f2d51bbdf7a549d8a6e5bb7aa8dbb947"
            ],
            "layout": "IPY_MODEL_69ea5a07f0a94ab3b64d2353fcf0338a"
          }
        },
        "e281e71f3b774716b250a65f4dc6e026": {
          "model_module": "@jupyter-widgets/controls",
          "model_name": "HTMLModel",
          "model_module_version": "1.5.0",
          "state": {
            "_dom_classes": [],
            "_model_module": "@jupyter-widgets/controls",
            "_model_module_version": "1.5.0",
            "_model_name": "HTMLModel",
            "_view_count": null,
            "_view_module": "@jupyter-widgets/controls",
            "_view_module_version": "1.5.0",
            "_view_name": "HTMLView",
            "description": "",
            "description_tooltip": null,
            "layout": "IPY_MODEL_deb091d7eefe42ee95589fce1b9c0b75",
            "placeholder": "​",
            "style": "IPY_MODEL_291146bbac12490e9018a1e699854d9d",
            "value": "dataset-resized.zip: 100%"
          }
        },
        "80f05ed8814e45ceb2aacdee9080e297": {
          "model_module": "@jupyter-widgets/controls",
          "model_name": "FloatProgressModel",
          "model_module_version": "1.5.0",
          "state": {
            "_dom_classes": [],
            "_model_module": "@jupyter-widgets/controls",
            "_model_module_version": "1.5.0",
            "_model_name": "FloatProgressModel",
            "_view_count": null,
            "_view_module": "@jupyter-widgets/controls",
            "_view_module_version": "1.5.0",
            "_view_name": "ProgressView",
            "bar_style": "success",
            "description": "",
            "description_tooltip": null,
            "layout": "IPY_MODEL_4b297326aeca4bd2995a8b77cdca203f",
            "max": 42834870,
            "min": 0,
            "orientation": "horizontal",
            "style": "IPY_MODEL_243ed279cd87466b9f8fc1ccaa5f3fe3",
            "value": 42834870
          }
        },
        "f2d51bbdf7a549d8a6e5bb7aa8dbb947": {
          "model_module": "@jupyter-widgets/controls",
          "model_name": "HTMLModel",
          "model_module_version": "1.5.0",
          "state": {
            "_dom_classes": [],
            "_model_module": "@jupyter-widgets/controls",
            "_model_module_version": "1.5.0",
            "_model_name": "HTMLModel",
            "_view_count": null,
            "_view_module": "@jupyter-widgets/controls",
            "_view_module_version": "1.5.0",
            "_view_name": "HTMLView",
            "description": "",
            "description_tooltip": null,
            "layout": "IPY_MODEL_31703637791a44cbb4c6bd13835302c0",
            "placeholder": "​",
            "style": "IPY_MODEL_fc5353d36be54215a2701e466e809def",
            "value": " 42.8M/42.8M [00:00&lt;00:00, 238MB/s]"
          }
        },
        "69ea5a07f0a94ab3b64d2353fcf0338a": {
          "model_module": "@jupyter-widgets/base",
          "model_name": "LayoutModel",
          "model_module_version": "1.2.0",
          "state": {
            "_model_module": "@jupyter-widgets/base",
            "_model_module_version": "1.2.0",
            "_model_name": "LayoutModel",
            "_view_count": null,
            "_view_module": "@jupyter-widgets/base",
            "_view_module_version": "1.2.0",
            "_view_name": "LayoutView",
            "align_content": null,
            "align_items": null,
            "align_self": null,
            "border": null,
            "bottom": null,
            "display": null,
            "flex": null,
            "flex_flow": null,
            "grid_area": null,
            "grid_auto_columns": null,
            "grid_auto_flow": null,
            "grid_auto_rows": null,
            "grid_column": null,
            "grid_gap": null,
            "grid_row": null,
            "grid_template_areas": null,
            "grid_template_columns": null,
            "grid_template_rows": null,
            "height": null,
            "justify_content": null,
            "justify_items": null,
            "left": null,
            "margin": null,
            "max_height": null,
            "max_width": null,
            "min_height": null,
            "min_width": null,
            "object_fit": null,
            "object_position": null,
            "order": null,
            "overflow": null,
            "overflow_x": null,
            "overflow_y": null,
            "padding": null,
            "right": null,
            "top": null,
            "visibility": null,
            "width": null
          }
        },
        "deb091d7eefe42ee95589fce1b9c0b75": {
          "model_module": "@jupyter-widgets/base",
          "model_name": "LayoutModel",
          "model_module_version": "1.2.0",
          "state": {
            "_model_module": "@jupyter-widgets/base",
            "_model_module_version": "1.2.0",
            "_model_name": "LayoutModel",
            "_view_count": null,
            "_view_module": "@jupyter-widgets/base",
            "_view_module_version": "1.2.0",
            "_view_name": "LayoutView",
            "align_content": null,
            "align_items": null,
            "align_self": null,
            "border": null,
            "bottom": null,
            "display": null,
            "flex": null,
            "flex_flow": null,
            "grid_area": null,
            "grid_auto_columns": null,
            "grid_auto_flow": null,
            "grid_auto_rows": null,
            "grid_column": null,
            "grid_gap": null,
            "grid_row": null,
            "grid_template_areas": null,
            "grid_template_columns": null,
            "grid_template_rows": null,
            "height": null,
            "justify_content": null,
            "justify_items": null,
            "left": null,
            "margin": null,
            "max_height": null,
            "max_width": null,
            "min_height": null,
            "min_width": null,
            "object_fit": null,
            "object_position": null,
            "order": null,
            "overflow": null,
            "overflow_x": null,
            "overflow_y": null,
            "padding": null,
            "right": null,
            "top": null,
            "visibility": null,
            "width": null
          }
        },
        "291146bbac12490e9018a1e699854d9d": {
          "model_module": "@jupyter-widgets/controls",
          "model_name": "DescriptionStyleModel",
          "model_module_version": "1.5.0",
          "state": {
            "_model_module": "@jupyter-widgets/controls",
            "_model_module_version": "1.5.0",
            "_model_name": "DescriptionStyleModel",
            "_view_count": null,
            "_view_module": "@jupyter-widgets/base",
            "_view_module_version": "1.2.0",
            "_view_name": "StyleView",
            "description_width": ""
          }
        },
        "4b297326aeca4bd2995a8b77cdca203f": {
          "model_module": "@jupyter-widgets/base",
          "model_name": "LayoutModel",
          "model_module_version": "1.2.0",
          "state": {
            "_model_module": "@jupyter-widgets/base",
            "_model_module_version": "1.2.0",
            "_model_name": "LayoutModel",
            "_view_count": null,
            "_view_module": "@jupyter-widgets/base",
            "_view_module_version": "1.2.0",
            "_view_name": "LayoutView",
            "align_content": null,
            "align_items": null,
            "align_self": null,
            "border": null,
            "bottom": null,
            "display": null,
            "flex": null,
            "flex_flow": null,
            "grid_area": null,
            "grid_auto_columns": null,
            "grid_auto_flow": null,
            "grid_auto_rows": null,
            "grid_column": null,
            "grid_gap": null,
            "grid_row": null,
            "grid_template_areas": null,
            "grid_template_columns": null,
            "grid_template_rows": null,
            "height": null,
            "justify_content": null,
            "justify_items": null,
            "left": null,
            "margin": null,
            "max_height": null,
            "max_width": null,
            "min_height": null,
            "min_width": null,
            "object_fit": null,
            "object_position": null,
            "order": null,
            "overflow": null,
            "overflow_x": null,
            "overflow_y": null,
            "padding": null,
            "right": null,
            "top": null,
            "visibility": null,
            "width": null
          }
        },
        "243ed279cd87466b9f8fc1ccaa5f3fe3": {
          "model_module": "@jupyter-widgets/controls",
          "model_name": "ProgressStyleModel",
          "model_module_version": "1.5.0",
          "state": {
            "_model_module": "@jupyter-widgets/controls",
            "_model_module_version": "1.5.0",
            "_model_name": "ProgressStyleModel",
            "_view_count": null,
            "_view_module": "@jupyter-widgets/base",
            "_view_module_version": "1.2.0",
            "_view_name": "StyleView",
            "bar_color": null,
            "description_width": ""
          }
        },
        "31703637791a44cbb4c6bd13835302c0": {
          "model_module": "@jupyter-widgets/base",
          "model_name": "LayoutModel",
          "model_module_version": "1.2.0",
          "state": {
            "_model_module": "@jupyter-widgets/base",
            "_model_module_version": "1.2.0",
            "_model_name": "LayoutModel",
            "_view_count": null,
            "_view_module": "@jupyter-widgets/base",
            "_view_module_version": "1.2.0",
            "_view_name": "LayoutView",
            "align_content": null,
            "align_items": null,
            "align_self": null,
            "border": null,
            "bottom": null,
            "display": null,
            "flex": null,
            "flex_flow": null,
            "grid_area": null,
            "grid_auto_columns": null,
            "grid_auto_flow": null,
            "grid_auto_rows": null,
            "grid_column": null,
            "grid_gap": null,
            "grid_row": null,
            "grid_template_areas": null,
            "grid_template_columns": null,
            "grid_template_rows": null,
            "height": null,
            "justify_content": null,
            "justify_items": null,
            "left": null,
            "margin": null,
            "max_height": null,
            "max_width": null,
            "min_height": null,
            "min_width": null,
            "object_fit": null,
            "object_position": null,
            "order": null,
            "overflow": null,
            "overflow_x": null,
            "overflow_y": null,
            "padding": null,
            "right": null,
            "top": null,
            "visibility": null,
            "width": null
          }
        },
        "fc5353d36be54215a2701e466e809def": {
          "model_module": "@jupyter-widgets/controls",
          "model_name": "DescriptionStyleModel",
          "model_module_version": "1.5.0",
          "state": {
            "_model_module": "@jupyter-widgets/controls",
            "_model_module_version": "1.5.0",
            "_model_name": "DescriptionStyleModel",
            "_view_count": null,
            "_view_module": "@jupyter-widgets/base",
            "_view_module_version": "1.2.0",
            "_view_name": "StyleView",
            "description_width": ""
          }
        },
        "62634139975c4d9b842d99f4d90e819f": {
          "model_module": "@jupyter-widgets/controls",
          "model_name": "HBoxModel",
          "model_module_version": "1.5.0",
          "state": {
            "_dom_classes": [],
            "_model_module": "@jupyter-widgets/controls",
            "_model_module_version": "1.5.0",
            "_model_name": "HBoxModel",
            "_view_count": null,
            "_view_module": "@jupyter-widgets/controls",
            "_view_module_version": "1.5.0",
            "_view_name": "HBoxView",
            "box_style": "",
            "children": [
              "IPY_MODEL_c3c460e3202449038ab8a85701646747",
              "IPY_MODEL_9b661632eb0b42909310f0773decac90",
              "IPY_MODEL_f25d48e903d446f8a3e5f41ce9a10c07"
            ],
            "layout": "IPY_MODEL_35375c609e3d46e9be5523aa758b7092"
          }
        },
        "c3c460e3202449038ab8a85701646747": {
          "model_module": "@jupyter-widgets/controls",
          "model_name": "HTMLModel",
          "model_module_version": "1.5.0",
          "state": {
            "_dom_classes": [],
            "_model_module": "@jupyter-widgets/controls",
            "_model_module_version": "1.5.0",
            "_model_name": "HTMLModel",
            "_view_count": null,
            "_view_module": "@jupyter-widgets/controls",
            "_view_module_version": "1.5.0",
            "_view_name": "HTMLView",
            "description": "",
            "description_tooltip": null,
            "layout": "IPY_MODEL_e39cd68f5dd84ca3a10783b22012a257",
            "placeholder": "​",
            "style": "IPY_MODEL_256d48ed937e48c98aa8f4940c9c1a4d",
            "value": "Generating train split: 100%"
          }
        },
        "9b661632eb0b42909310f0773decac90": {
          "model_module": "@jupyter-widgets/controls",
          "model_name": "FloatProgressModel",
          "model_module_version": "1.5.0",
          "state": {
            "_dom_classes": [],
            "_model_module": "@jupyter-widgets/controls",
            "_model_module_version": "1.5.0",
            "_model_name": "FloatProgressModel",
            "_view_count": null,
            "_view_module": "@jupyter-widgets/controls",
            "_view_module_version": "1.5.0",
            "_view_name": "ProgressView",
            "bar_style": "success",
            "description": "",
            "description_tooltip": null,
            "layout": "IPY_MODEL_7afe494010fa4c3594debbcec6e06f24",
            "max": 5054,
            "min": 0,
            "orientation": "horizontal",
            "style": "IPY_MODEL_957e731b3f714a5696e798093f61f445",
            "value": 5054
          }
        },
        "f25d48e903d446f8a3e5f41ce9a10c07": {
          "model_module": "@jupyter-widgets/controls",
          "model_name": "HTMLModel",
          "model_module_version": "1.5.0",
          "state": {
            "_dom_classes": [],
            "_model_module": "@jupyter-widgets/controls",
            "_model_module_version": "1.5.0",
            "_model_name": "HTMLModel",
            "_view_count": null,
            "_view_module": "@jupyter-widgets/controls",
            "_view_module_version": "1.5.0",
            "_view_name": "HTMLView",
            "description": "",
            "description_tooltip": null,
            "layout": "IPY_MODEL_31d684acfc9946398f1f2590db960f0a",
            "placeholder": "​",
            "style": "IPY_MODEL_f691fa05b07845cba62ca0e03eb1c2ac",
            "value": " 5054/5054 [00:00&lt;00:00, 6659.51 examples/s]"
          }
        },
        "35375c609e3d46e9be5523aa758b7092": {
          "model_module": "@jupyter-widgets/base",
          "model_name": "LayoutModel",
          "model_module_version": "1.2.0",
          "state": {
            "_model_module": "@jupyter-widgets/base",
            "_model_module_version": "1.2.0",
            "_model_name": "LayoutModel",
            "_view_count": null,
            "_view_module": "@jupyter-widgets/base",
            "_view_module_version": "1.2.0",
            "_view_name": "LayoutView",
            "align_content": null,
            "align_items": null,
            "align_self": null,
            "border": null,
            "bottom": null,
            "display": null,
            "flex": null,
            "flex_flow": null,
            "grid_area": null,
            "grid_auto_columns": null,
            "grid_auto_flow": null,
            "grid_auto_rows": null,
            "grid_column": null,
            "grid_gap": null,
            "grid_row": null,
            "grid_template_areas": null,
            "grid_template_columns": null,
            "grid_template_rows": null,
            "height": null,
            "justify_content": null,
            "justify_items": null,
            "left": null,
            "margin": null,
            "max_height": null,
            "max_width": null,
            "min_height": null,
            "min_width": null,
            "object_fit": null,
            "object_position": null,
            "order": null,
            "overflow": null,
            "overflow_x": null,
            "overflow_y": null,
            "padding": null,
            "right": null,
            "top": null,
            "visibility": null,
            "width": null
          }
        },
        "e39cd68f5dd84ca3a10783b22012a257": {
          "model_module": "@jupyter-widgets/base",
          "model_name": "LayoutModel",
          "model_module_version": "1.2.0",
          "state": {
            "_model_module": "@jupyter-widgets/base",
            "_model_module_version": "1.2.0",
            "_model_name": "LayoutModel",
            "_view_count": null,
            "_view_module": "@jupyter-widgets/base",
            "_view_module_version": "1.2.0",
            "_view_name": "LayoutView",
            "align_content": null,
            "align_items": null,
            "align_self": null,
            "border": null,
            "bottom": null,
            "display": null,
            "flex": null,
            "flex_flow": null,
            "grid_area": null,
            "grid_auto_columns": null,
            "grid_auto_flow": null,
            "grid_auto_rows": null,
            "grid_column": null,
            "grid_gap": null,
            "grid_row": null,
            "grid_template_areas": null,
            "grid_template_columns": null,
            "grid_template_rows": null,
            "height": null,
            "justify_content": null,
            "justify_items": null,
            "left": null,
            "margin": null,
            "max_height": null,
            "max_width": null,
            "min_height": null,
            "min_width": null,
            "object_fit": null,
            "object_position": null,
            "order": null,
            "overflow": null,
            "overflow_x": null,
            "overflow_y": null,
            "padding": null,
            "right": null,
            "top": null,
            "visibility": null,
            "width": null
          }
        },
        "256d48ed937e48c98aa8f4940c9c1a4d": {
          "model_module": "@jupyter-widgets/controls",
          "model_name": "DescriptionStyleModel",
          "model_module_version": "1.5.0",
          "state": {
            "_model_module": "@jupyter-widgets/controls",
            "_model_module_version": "1.5.0",
            "_model_name": "DescriptionStyleModel",
            "_view_count": null,
            "_view_module": "@jupyter-widgets/base",
            "_view_module_version": "1.2.0",
            "_view_name": "StyleView",
            "description_width": ""
          }
        },
        "7afe494010fa4c3594debbcec6e06f24": {
          "model_module": "@jupyter-widgets/base",
          "model_name": "LayoutModel",
          "model_module_version": "1.2.0",
          "state": {
            "_model_module": "@jupyter-widgets/base",
            "_model_module_version": "1.2.0",
            "_model_name": "LayoutModel",
            "_view_count": null,
            "_view_module": "@jupyter-widgets/base",
            "_view_module_version": "1.2.0",
            "_view_name": "LayoutView",
            "align_content": null,
            "align_items": null,
            "align_self": null,
            "border": null,
            "bottom": null,
            "display": null,
            "flex": null,
            "flex_flow": null,
            "grid_area": null,
            "grid_auto_columns": null,
            "grid_auto_flow": null,
            "grid_auto_rows": null,
            "grid_column": null,
            "grid_gap": null,
            "grid_row": null,
            "grid_template_areas": null,
            "grid_template_columns": null,
            "grid_template_rows": null,
            "height": null,
            "justify_content": null,
            "justify_items": null,
            "left": null,
            "margin": null,
            "max_height": null,
            "max_width": null,
            "min_height": null,
            "min_width": null,
            "object_fit": null,
            "object_position": null,
            "order": null,
            "overflow": null,
            "overflow_x": null,
            "overflow_y": null,
            "padding": null,
            "right": null,
            "top": null,
            "visibility": null,
            "width": null
          }
        },
        "957e731b3f714a5696e798093f61f445": {
          "model_module": "@jupyter-widgets/controls",
          "model_name": "ProgressStyleModel",
          "model_module_version": "1.5.0",
          "state": {
            "_model_module": "@jupyter-widgets/controls",
            "_model_module_version": "1.5.0",
            "_model_name": "ProgressStyleModel",
            "_view_count": null,
            "_view_module": "@jupyter-widgets/base",
            "_view_module_version": "1.2.0",
            "_view_name": "StyleView",
            "bar_color": null,
            "description_width": ""
          }
        },
        "31d684acfc9946398f1f2590db960f0a": {
          "model_module": "@jupyter-widgets/base",
          "model_name": "LayoutModel",
          "model_module_version": "1.2.0",
          "state": {
            "_model_module": "@jupyter-widgets/base",
            "_model_module_version": "1.2.0",
            "_model_name": "LayoutModel",
            "_view_count": null,
            "_view_module": "@jupyter-widgets/base",
            "_view_module_version": "1.2.0",
            "_view_name": "LayoutView",
            "align_content": null,
            "align_items": null,
            "align_self": null,
            "border": null,
            "bottom": null,
            "display": null,
            "flex": null,
            "flex_flow": null,
            "grid_area": null,
            "grid_auto_columns": null,
            "grid_auto_flow": null,
            "grid_auto_rows": null,
            "grid_column": null,
            "grid_gap": null,
            "grid_row": null,
            "grid_template_areas": null,
            "grid_template_columns": null,
            "grid_template_rows": null,
            "height": null,
            "justify_content": null,
            "justify_items": null,
            "left": null,
            "margin": null,
            "max_height": null,
            "max_width": null,
            "min_height": null,
            "min_width": null,
            "object_fit": null,
            "object_position": null,
            "order": null,
            "overflow": null,
            "overflow_x": null,
            "overflow_y": null,
            "padding": null,
            "right": null,
            "top": null,
            "visibility": null,
            "width": null
          }
        },
        "f691fa05b07845cba62ca0e03eb1c2ac": {
          "model_module": "@jupyter-widgets/controls",
          "model_name": "DescriptionStyleModel",
          "model_module_version": "1.5.0",
          "state": {
            "_model_module": "@jupyter-widgets/controls",
            "_model_module_version": "1.5.0",
            "_model_name": "DescriptionStyleModel",
            "_view_count": null,
            "_view_module": "@jupyter-widgets/base",
            "_view_module_version": "1.2.0",
            "_view_name": "StyleView",
            "description_width": ""
          }
        }
      }
    }
  },
  "nbformat_minor": 0,
  "nbformat": 4,
  "cells": [
    {
      "cell_type": "markdown",
      "source": [
        "## Load and Preprocessing Data"
      ],
      "metadata": {
        "id": "15T36lSVfj3o"
      }
    },
    {
      "cell_type": "code",
      "source": [
        "from datasets import load_dataset\n",
        "from collections import Counter\n",
        "import matplotlib.pyplot as plt\n",
        "import pandas as pd\n",
        "import numpy as np\n",
        "import os\n",
        "\n",
        "from sklearn.model_selection import train_test_split\n",
        "from torch.utils.data import Subset\n",
        "from torchvision import transforms\n",
        "\n",
        "import wandb\n",
        "import torch\n",
        "import torch.nn as nn\n",
        "from torch.utils.data import Dataset\n",
        "from torch.utils.data import DataLoader\n",
        "import torch.optim as optim\n",
        "import torchvision.models as models\n",
        "\n",
        "from tqdm import tqdm\n",
        "import seaborn as sns\n",
        "from sklearn.metrics import confusion_matrix, classification_report"
      ],
      "metadata": {
        "trusted": true,
        "execution": {
          "iopub.status.busy": "2024-12-21T09:38:53.933078Z",
          "iopub.execute_input": "2024-12-21T09:38:53.933362Z",
          "iopub.status.idle": "2024-12-21T09:39:01.531224Z",
          "shell.execute_reply.started": "2024-12-21T09:38:53.933339Z",
          "shell.execute_reply": "2024-12-21T09:39:01.530346Z"
        },
        "id": "iw87Qv7OTR-o"
      },
      "outputs": [],
      "execution_count": null
    },
    {
      "cell_type": "code",
      "source": [
        "ds = load_dataset(\"garythung/trashnet\")"
      ],
      "metadata": {
        "trusted": true,
        "execution": {
          "iopub.status.busy": "2024-12-21T09:39:01.532701Z",
          "iopub.execute_input": "2024-12-21T09:39:01.532938Z",
          "iopub.status.idle": "2024-12-21T09:39:26.436110Z",
          "shell.execute_reply.started": "2024-12-21T09:39:01.532915Z",
          "shell.execute_reply": "2024-12-21T09:39:26.435479Z"
        },
        "colab": {
          "base_uri": "https://localhost:8080/",
          "height": 274,
          "referenced_widgets": [
            "286ccc91d8094056bd7bfb67a7efdb96",
            "cc9562e04e8f44c49a3db2c8add5f101",
            "67adc2548c41459298e64ee89d2b1eec",
            "74f669b9d69a487cb21b26746f0b125c",
            "117dd5161a4a4586a4633fcc279c3279",
            "68106666a6a649e3baf701583bd154d6",
            "6c83555e7fa946158087e9fd4dde0d9b",
            "326d08d4584840509680b3861e54c66e",
            "59a439991785478d952e4db6a10d9356",
            "9fd232cf1e2747fbb8d4ad237fba10e8",
            "6a1fcff1ffeb42deb5edbe5ec56404b5",
            "d6503fa4de7d4c198f76dee045df8afa",
            "eb102ecb359c4c948a174b3e982a37d2",
            "fbf1132643dd4c1a9324104a30958eb2",
            "df775468526541fda2855ce7de300946",
            "60d359f1dd5e425eb83037f5d570c627",
            "e3a93c0fbbea4654879f497b9a313f0b",
            "1133f65c3d27497291832fe151f130a6",
            "d3f980f4ba7a499fa7895258a8736f96",
            "fa2930b05c204ec7820f9f0eb9f61681",
            "030df5982c0e4f6e8453fa049e81247a",
            "e5bb9d3170004efa889b2bcf5460b1aa",
            "a6cbb0ef804645efbed4c4ba05cc2e89",
            "e281e71f3b774716b250a65f4dc6e026",
            "80f05ed8814e45ceb2aacdee9080e297",
            "f2d51bbdf7a549d8a6e5bb7aa8dbb947",
            "69ea5a07f0a94ab3b64d2353fcf0338a",
            "deb091d7eefe42ee95589fce1b9c0b75",
            "291146bbac12490e9018a1e699854d9d",
            "4b297326aeca4bd2995a8b77cdca203f",
            "243ed279cd87466b9f8fc1ccaa5f3fe3",
            "31703637791a44cbb4c6bd13835302c0",
            "fc5353d36be54215a2701e466e809def",
            "62634139975c4d9b842d99f4d90e819f",
            "c3c460e3202449038ab8a85701646747",
            "9b661632eb0b42909310f0773decac90",
            "f25d48e903d446f8a3e5f41ce9a10c07",
            "35375c609e3d46e9be5523aa758b7092",
            "e39cd68f5dd84ca3a10783b22012a257",
            "256d48ed937e48c98aa8f4940c9c1a4d",
            "7afe494010fa4c3594debbcec6e06f24",
            "957e731b3f714a5696e798093f61f445",
            "31d684acfc9946398f1f2590db960f0a",
            "f691fa05b07845cba62ca0e03eb1c2ac"
          ]
        },
        "id": "1zcvPIIvTR-q",
        "outputId": "1af6bd6c-aa8d-4e43-fc62-cbff8a143980"
      },
      "outputs": [
        {
          "output_type": "stream",
          "name": "stderr",
          "text": [
            "/usr/local/lib/python3.10/dist-packages/huggingface_hub/utils/_auth.py:94: UserWarning: \n",
            "The secret `HF_TOKEN` does not exist in your Colab secrets.\n",
            "To authenticate with the Hugging Face Hub, create a token in your settings tab (https://huggingface.co/settings/tokens), set it as secret in your Google Colab and restart your session.\n",
            "You will be able to reuse this secret in all of your notebooks.\n",
            "Please note that authentication is recommended but still optional to access public models or datasets.\n",
            "  warnings.warn(\n"
          ]
        },
        {
          "output_type": "display_data",
          "data": {
            "text/plain": [
              "README.md:   0%|          | 0.00/21.0 [00:00<?, ?B/s]"
            ],
            "application/vnd.jupyter.widget-view+json": {
              "version_major": 2,
              "version_minor": 0,
              "model_id": "286ccc91d8094056bd7bfb67a7efdb96"
            }
          },
          "metadata": {}
        },
        {
          "output_type": "display_data",
          "data": {
            "text/plain": [
              "dataset-original.zip:   0%|          | 0.00/3.63G [00:00<?, ?B/s]"
            ],
            "application/vnd.jupyter.widget-view+json": {
              "version_major": 2,
              "version_minor": 0,
              "model_id": "d6503fa4de7d4c198f76dee045df8afa"
            }
          },
          "metadata": {}
        },
        {
          "output_type": "display_data",
          "data": {
            "text/plain": [
              "dataset-resized.zip:   0%|          | 0.00/42.8M [00:00<?, ?B/s]"
            ],
            "application/vnd.jupyter.widget-view+json": {
              "version_major": 2,
              "version_minor": 0,
              "model_id": "a6cbb0ef804645efbed4c4ba05cc2e89"
            }
          },
          "metadata": {}
        },
        {
          "output_type": "display_data",
          "data": {
            "text/plain": [
              "Generating train split:   0%|          | 0/5054 [00:00<?, ? examples/s]"
            ],
            "application/vnd.jupyter.widget-view+json": {
              "version_major": 2,
              "version_minor": 0,
              "model_id": "62634139975c4d9b842d99f4d90e819f"
            }
          },
          "metadata": {}
        }
      ],
      "execution_count": null
    },
    {
      "cell_type": "code",
      "source": [
        "ds"
      ],
      "metadata": {
        "trusted": true,
        "execution": {
          "iopub.status.busy": "2024-12-21T09:39:26.437328Z",
          "iopub.execute_input": "2024-12-21T09:39:26.437631Z",
          "iopub.status.idle": "2024-12-21T09:39:26.441905Z",
          "shell.execute_reply.started": "2024-12-21T09:39:26.437601Z",
          "shell.execute_reply": "2024-12-21T09:39:26.441336Z"
        },
        "colab": {
          "base_uri": "https://localhost:8080/"
        },
        "id": "5XAdH8UiTR-q",
        "outputId": "a8fe4893-3c99-48ff-cbd4-1089c69e96e7"
      },
      "outputs": [
        {
          "output_type": "execute_result",
          "data": {
            "text/plain": [
              "DatasetDict({\n",
              "    train: Dataset({\n",
              "        features: ['image', 'label'],\n",
              "        num_rows: 5054\n",
              "    })\n",
              "})"
            ]
          },
          "metadata": {},
          "execution_count": 6
        }
      ],
      "execution_count": null
    },
    {
      "cell_type": "code",
      "source": [
        "labels = ds['train']['label']\n",
        "unique_labels, counts = np.unique(labels, return_counts=True)\n",
        "class_distribution = dict(zip(unique_labels, counts))\n",
        "print(\"\\nclass distribution:\", class_distribution)\n",
        "\n",
        "plt.bar(unique_labels, counts)\n",
        "plt.xlabel(\"Labels\")\n",
        "plt.ylabel(\"Count\")\n",
        "plt.title(\"Class Distribution\")\n",
        "plt.show()"
      ],
      "metadata": {
        "trusted": true,
        "execution": {
          "iopub.status.busy": "2024-12-21T09:39:26.442589Z",
          "iopub.execute_input": "2024-12-21T09:39:26.442851Z",
          "iopub.status.idle": "2024-12-21T09:39:30.593185Z",
          "shell.execute_reply.started": "2024-12-21T09:39:26.442825Z",
          "shell.execute_reply": "2024-12-21T09:39:30.592321Z"
        },
        "colab": {
          "base_uri": "https://localhost:8080/",
          "height": 508
        },
        "id": "oh-eU7T4TR-r",
        "outputId": "94148cc0-cc5d-4835-9059-eff0bb89f8d5"
      },
      "outputs": [
        {
          "output_type": "stream",
          "name": "stdout",
          "text": [
            "\n",
            "class distribution: {0: 806, 1: 1002, 2: 820, 3: 1188, 4: 964, 5: 274}\n"
          ]
        },
        {
          "output_type": "display_data",
          "data": {
            "text/plain": [
              "<Figure size 640x480 with 1 Axes>"
            ],
            "image/png": "[encoded data removed]"
          },
          "metadata": {}
        }
      ],
      "execution_count": null
    },
    {
      "cell_type": "code",
      "source": [
        "total_samples = len(ds['train'])\n",
        "num_classes = len(unique_labels)\n",
        "\n",
        "print(\"\\nTotal samples:\", total_samples)\n",
        "print(\"Number of classes:\", num_classes)"
      ],
      "metadata": {
        "trusted": true,
        "execution": {
          "iopub.status.busy": "2024-12-21T09:39:30.593965Z",
          "iopub.execute_input": "2024-12-21T09:39:30.594277Z",
          "iopub.status.idle": "2024-12-21T09:39:30.661350Z",
          "shell.execute_reply.started": "2024-12-21T09:39:30.594246Z",
          "shell.execute_reply": "2024-12-21T09:39:30.660579Z"
        },
        "colab": {
          "base_uri": "https://localhost:8080/"
        },
        "id": "hpHYmg9tTR-r",
        "outputId": "4591e143-10a0-428d-f0f8-2df8bc7bfd4b"
      },
      "outputs": [
        {
          "output_type": "stream",
          "name": "stdout",
          "text": [
            "\n",
            "Total samples: 5054\n",
            "Number of classes: 6\n"
          ]
        }
      ],
      "execution_count": null
    },
    {
      "cell_type": "code",
      "source": [
        "unique_sizes = set()\n",
        "total_images = len(ds['train'])\n",
        "\n",
        "for i in range(0, total_images, 100):\n",
        "    img = ds['train'][i]['image']\n",
        "    unique_sizes.add(img.size)\n",
        "    if i % 100 == 0:\n",
        "        print(f\"Processed {i}/{total_images} images\")\n",
        "\n",
        "print(\"\\nunique sizes of image:\", list(unique_sizes))"
      ],
      "metadata": {
        "trusted": true,
        "execution": {
          "iopub.status.busy": "2024-12-21T09:39:30.662988Z",
          "iopub.execute_input": "2024-12-21T09:39:30.663313Z",
          "iopub.status.idle": "2024-12-21T09:39:35.855990Z",
          "shell.execute_reply.started": "2024-12-21T09:39:30.663289Z",
          "shell.execute_reply": "2024-12-21T09:39:35.855291Z"
        },
        "colab": {
          "base_uri": "https://localhost:8080/"
        },
        "id": "vx3kZDYtTR-s",
        "outputId": "c7f3ab8a-2829-41a0-ec17-b0a16a5b729c"
      },
      "outputs": [
        {
          "output_type": "stream",
          "name": "stdout",
          "text": [
            "Processed 0/5054 images\n",
            "Processed 100/5054 images\n",
            "Processed 200/5054 images\n",
            "Processed 300/5054 images\n",
            "Processed 400/5054 images\n",
            "Processed 500/5054 images\n",
            "Processed 600/5054 images\n",
            "Processed 700/5054 images\n",
            "Processed 800/5054 images\n",
            "Processed 900/5054 images\n",
            "Processed 1000/5054 images\n",
            "Processed 1100/5054 images\n",
            "Processed 1200/5054 images\n",
            "Processed 1300/5054 images\n",
            "Processed 1400/5054 images\n",
            "Processed 1500/5054 images\n",
            "Processed 1600/5054 images\n",
            "Processed 1700/5054 images\n",
            "Processed 1800/5054 images\n",
            "Processed 1900/5054 images\n",
            "Processed 2000/5054 images\n",
            "Processed 2100/5054 images\n",
            "Processed 2200/5054 images\n",
            "Processed 2300/5054 images\n",
            "Processed 2400/5054 images\n",
            "Processed 2500/5054 images\n",
            "Processed 2600/5054 images\n",
            "Processed 2700/5054 images\n",
            "Processed 2800/5054 images\n",
            "Processed 2900/5054 images\n",
            "Processed 3000/5054 images\n",
            "Processed 3100/5054 images\n",
            "Processed 3200/5054 images\n",
            "Processed 3300/5054 images\n",
            "Processed 3400/5054 images\n",
            "Processed 3500/5054 images\n",
            "Processed 3600/5054 images\n",
            "Processed 3700/5054 images\n",
            "Processed 3800/5054 images\n",
            "Processed 3900/5054 images\n",
            "Processed 4000/5054 images\n",
            "Processed 4100/5054 images\n",
            "Processed 4200/5054 images\n",
            "Processed 4300/5054 images\n",
            "Processed 4400/5054 images\n",
            "Processed 4500/5054 images\n",
            "Processed 4600/5054 images\n",
            "Processed 4700/5054 images\n",
            "Processed 4800/5054 images\n",
            "Processed 4900/5054 images\n",
            "Processed 5000/5054 images\n",
            "\n",
            "unique sizes of image: [(4032, 3024), (3024, 4032), (3264, 2448), (2448, 3264), (512, 384)]\n"
          ]
        }
      ],
      "execution_count": null
    },
    {
      "cell_type": "markdown",
      "source": [
        "Handling Image Sizes:\n",
        "Handling a variety of image sizes involves transforming all images into uniform dimensions, in this case,\n",
        "224\n",
        "×\n",
        "224\n",
        ". This reduces computational memory and time. However, on the downside, it may lead to a significant loss of information from the images (especially those larger than 1000 pixels). Therefore, having ample computational resources would be beneficial for processing larger datasets, which could better represent real-world scenarios."
      ],
      "metadata": {
        "id": "ipH_-ArVcESU"
      }
    },
    {
      "cell_type": "markdown",
      "source": [
        "Handling Imbalanced Data:\n",
        "To address the issue of imbalanced data, particularly for class number '5,' we apply a weighting strategy in the CrossEntropyLoss function. The weights are calculated inversely proportional to the class frequencies, ensuring that the model assigns greater importance to the minority class during training\n",
        "\n",
        "Real-World Applicability:\n",
        "Although the primary goal is to achieve high accuracy for this dataset, this approach may still have limitations when applied to real-world scenarios. Real-world cases often require a more diverse and extensive dataset to develop a model that achieves higher accuracy and robustness."
      ],
      "metadata": {
        "id": "dRsCrsCOTR-t"
      }
    },
    {
      "cell_type": "markdown",
      "source": [
        "### Split Dataset into Training and Validation"
      ],
      "metadata": {
        "id": "wmy8v5lYfvtd"
      }
    },
    {
      "cell_type": "markdown",
      "source": [
        "Since, the number of dataset is not too large to train, that's why the dataset splitted only into 2 set"
      ],
      "metadata": {
        "id": "PCNOSBvmf31Q"
      }
    },
    {
      "cell_type": "code",
      "source": [
        "ds_index = list(range(len(ds['train'])))\n",
        "train_index, val_index = train_test_split(\n",
        "    ds_index, test_size=0.2, random_state=42, stratify=ds['train']['label'])\n",
        "\n",
        "train_dataset = Subset(ds['train'], train_index)\n",
        "val_dataset = Subset(ds['train'], val_index)\n",
        "print(\"train size:\", len(train_dataset))\n",
        "print(\"validation size:\", len(val_dataset))"
      ],
      "metadata": {
        "trusted": true,
        "execution": {
          "iopub.status.busy": "2024-12-21T09:39:35.856959Z",
          "iopub.execute_input": "2024-12-21T09:39:35.857199Z",
          "iopub.status.idle": "2024-12-21T09:39:35.870455Z",
          "shell.execute_reply.started": "2024-12-21T09:39:35.857175Z",
          "shell.execute_reply": "2024-12-21T09:39:35.869597Z"
        },
        "colab": {
          "base_uri": "https://localhost:8080/"
        },
        "id": "EzbWOocGTR-u",
        "outputId": "99c4ffea-bb19-419c-c5ba-6ff6660d51c5"
      },
      "outputs": [
        {
          "output_type": "stream",
          "name": "stdout",
          "text": [
            "train size: 4043\n",
            "validation size: 1011\n"
          ]
        }
      ],
      "execution_count": null
    },
    {
      "cell_type": "markdown",
      "source": [
        "### Preprocessing Train and Validation Data"
      ],
      "metadata": {
        "id": "2YvPulYmgG6s"
      }
    },
    {
      "cell_type": "code",
      "source": [
        "train_transform = transforms.Compose([\n",
        "    transforms.Resize((224, 224)),\n",
        "    transforms.RandomHorizontalFlip(),\n",
        "    transforms.RandomRotation(15),\n",
        "    transforms.ToTensor(),\n",
        "    transforms.Normalize([0.485, 0.456, 0.406], [0.229, 0.224, 0.225])\n",
        "])\n",
        "\n",
        "val_transform = transforms.Compose([\n",
        "    transforms.Resize((224, 224)),\n",
        "    transforms.ToTensor(),\n",
        "    transforms.Normalize([0.485, 0.456, 0.406], [0.229, 0.224, 0.225])\n",
        "])"
      ],
      "metadata": {
        "trusted": true,
        "execution": {
          "iopub.status.busy": "2024-12-21T09:39:35.871324Z",
          "iopub.execute_input": "2024-12-21T09:39:35.871635Z",
          "iopub.status.idle": "2024-12-21T09:39:35.886600Z",
          "shell.execute_reply.started": "2024-12-21T09:39:35.871610Z",
          "shell.execute_reply": "2024-12-21T09:39:35.885798Z"
        },
        "id": "6Pk3xZbZTR-v"
      },
      "outputs": [],
      "execution_count": null
    },
    {
      "cell_type": "code",
      "source": [
        "from torch.utils.data import Dataset\n",
        "class SimpleTrashDataset(Dataset):\n",
        "    def __init__(self, dataset, indices, transform=None):\n",
        "        self.dataset = dataset\n",
        "        self.indices = indices\n",
        "        self.transform = transform\n",
        "\n",
        "    def __len__(self):\n",
        "        return len(self.indices)\n",
        "\n",
        "    def __getitem__(self, idx):\n",
        "        image = self.dataset[self.indices[idx]]['image']\n",
        "        label = self.dataset[self.indices[idx]]['label']\n",
        "        if self.transform:\n",
        "            image = self.transform(image)\n",
        "\n",
        "        return image, label\n",
        "\n",
        "train_dataset = SimpleTrashDataset(ds['train'], train_index, train_transform)\n",
        "val_dataset = SimpleTrashDataset(ds['train'], val_index, val_transform)\n"
      ],
      "metadata": {
        "trusted": true,
        "execution": {
          "iopub.status.busy": "2024-12-21T09:39:35.887406Z",
          "iopub.execute_input": "2024-12-21T09:39:35.887630Z",
          "iopub.status.idle": "2024-12-21T09:39:35.906865Z",
          "shell.execute_reply.started": "2024-12-21T09:39:35.887610Z",
          "shell.execute_reply": "2024-12-21T09:39:35.906178Z"
        },
        "id": "VGR3sNIdTR-w"
      },
      "outputs": [],
      "execution_count": null
    },
    {
      "cell_type": "code",
      "source": [
        "train_loader = DataLoader(\n",
        "    train_dataset,\n",
        "    batch_size=32,\n",
        "    num_workers=2,\n",
        "    pin_memory=True\n",
        ")\n",
        "\n",
        "val_loader = DataLoader(\n",
        "    val_dataset,\n",
        "    batch_size=32,\n",
        "    shuffle=False,\n",
        "    num_workers=0,\n",
        "    pin_memory=True\n",
        ")\n",
        "\n",
        "for images, labels in train_loader:\n",
        "    print(f\"Batch size: {images.size(0)}\")\n",
        "    break"
      ],
      "metadata": {
        "trusted": true,
        "execution": {
          "iopub.status.busy": "2024-12-21T12:03:16.394535Z",
          "iopub.execute_input": "2024-12-21T12:03:16.394861Z",
          "iopub.status.idle": "2024-12-21T12:04:04.349667Z",
          "shell.execute_reply.started": "2024-12-21T12:03:16.394834Z",
          "shell.execute_reply": "2024-12-21T12:04:04.348519Z"
        },
        "colab": {
          "base_uri": "https://localhost:8080/"
        },
        "id": "2EkfAP_tTR-w",
        "outputId": "12ec1e6d-1397-450f-f1c3-0889ca29e678"
      },
      "outputs": [
        {
          "output_type": "stream",
          "name": "stdout",
          "text": [
            "Batch size: 16\n"
          ]
        }
      ],
      "execution_count": null
    },
    {
      "cell_type": "markdown",
      "source": [
        "## Setup the Model"
      ],
      "metadata": {
        "id": "-cT4e908gSXw"
      }
    },
    {
      "cell_type": "markdown",
      "source": [
        "Since this notebook will runned on GitHub Action, the chosen model is not too large because it will use CPU system"
      ],
      "metadata": {
        "id": "MxPgfCjAgZVV"
      }
    },
    {
      "cell_type": "code",
      "source": [
        "num_classes = 6\n",
        "model = models.resnet18(weights=models.ResNet18_Weights.DEFAULT)\n",
        "for param in model.fc.parameters():\n",
        "    param.requires_grad = False\n",
        "\n",
        "for layer in [model.layer4]:\n",
        "    for param in layer.parameters():\n",
        "        param.requires_grad = True\n",
        "\n",
        "num_features = model.fc.in_features\n",
        "model.fc = nn.Sequential(\n",
        "    nn.Linear(num_features, 256),\n",
        "    nn.ReLU(),\n",
        "    nn.Dropout(0.3),\n",
        "    nn.Linear(256, num_classes)\n",
        ")"
      ],
      "metadata": {
        "trusted": true,
        "execution": {
          "iopub.status.busy": "2024-12-21T12:04:04.351156Z",
          "iopub.execute_input": "2024-12-21T12:04:04.351506Z",
          "iopub.status.idle": "2024-12-21T12:04:04.831879Z",
          "shell.execute_reply.started": "2024-12-21T12:04:04.351468Z",
          "shell.execute_reply": "2024-12-21T12:04:04.831159Z"
        },
        "id": "ZFDNTNsqTR-w",
        "colab": {
          "base_uri": "https://localhost:8080/"
        },
        "outputId": "1a1e4706-25d0-4713-a5a8-af8d82667bdd"
      },
      "outputs": [
        {
          "output_type": "stream",
          "name": "stderr",
          "text": [
            "Downloading: \"https://download.pytorch.org/models/resnet18-f37072fd.pth\" to /root/.cache/torch/hub/checkpoints/resnet18-f37072fd.pth\n",
            "100%|██████████| 44.7M/44.7M [00:00<00:00, 125MB/s]\n"
          ]
        }
      ],
      "execution_count": null
    },
    {
      "cell_type": "markdown",
      "source": [
        "This is how imbalance class distribution looks like in a batch"
      ],
      "metadata": {
        "id": "pE5LQu9OdPgx"
      }
    },
    {
      "cell_type": "code",
      "source": [
        "for images, labels in train_loader:\n",
        "    label_counts = Counter(labels.tolist())\n",
        "    print(f\"Batch class distribution: {label_counts}\")\n",
        "    break"
      ],
      "metadata": {
        "trusted": true,
        "execution": {
          "iopub.status.busy": "2024-12-21T12:04:26.869168Z",
          "iopub.execute_input": "2024-12-21T12:04:26.869477Z",
          "iopub.status.idle": "2024-12-21T12:05:14.769573Z",
          "shell.execute_reply.started": "2024-12-21T12:04:26.869454Z",
          "shell.execute_reply": "2024-12-21T12:05:14.767967Z"
        },
        "colab": {
          "base_uri": "https://localhost:8080/"
        },
        "id": "z-mBLg8ETR-w",
        "outputId": "432b0ea2-5cdc-4afb-b877-1d254ab98c5a"
      },
      "outputs": [
        {
          "output_type": "stream",
          "name": "stdout",
          "text": [
            "Batch class distribution: Counter({1: 7, 4: 2, 0: 2, 3: 2, 2: 2, 5: 1})\n"
          ]
        }
      ],
      "execution_count": null
    },
    {
      "cell_type": "markdown",
      "source": [
        "Apply the inverse method in CrossEntropyLoss to adjust weight of underrepresented class.This weighting strategy ensures that the minority class (class number '5' in this case) contributes proportionally more to the loss function, effectively addressing the imbalance and encouraging the model to pay more attention to underrepresented classes."
      ],
      "metadata": {
        "id": "_4WgCvwWjveX"
      }
    },
    {
      "cell_type": "code",
      "source": [
        "train_labels = ds['train'].select(train_index)['label']\n",
        "\n",
        "class_counts = np.bincount(train_labels)\n",
        "class_weights = 1.0 / class_counts\n",
        "class_weights = class_weights / class_weights.sum() * len(class_counts)\n",
        "class_weights = torch.tensor(class_weights, dtype=torch.float32)\n",
        "print(f\"Class Weights: {class_weights}\")\n",
        "\n",
        "device = torch.device('cuda' if torch.cuda.is_available() else 'cpu')\n",
        "model = model.to(device)\n",
        "class_weights = class_weights.to(device)\n",
        "criterion = torch.nn.CrossEntropyLoss(weight=class_weights.to(device))"
      ],
      "metadata": {
        "trusted": true,
        "execution": {
          "iopub.status.busy": "2024-12-21T12:05:14.771062Z",
          "iopub.execute_input": "2024-12-21T12:05:14.771566Z",
          "iopub.status.idle": "2024-12-21T12:05:14.921730Z",
          "shell.execute_reply.started": "2024-12-21T12:05:14.771514Z",
          "shell.execute_reply": "2024-12-21T12:05:14.920898Z"
        },
        "colab": {
          "base_uri": "https://localhost:8080/"
        },
        "id": "tMEttJUWTR-w",
        "outputId": "87b9c17e-7eb9-4d8a-9946-00a7f48902e4"
      },
      "outputs": [
        {
          "output_type": "stream",
          "name": "stdout",
          "text": [
            "Class Weights: tensor([0.8278, 0.6657, 0.8139, 0.5620, 0.6925, 2.4380])\n"
          ]
        }
      ],
      "execution_count": null
    },
    {
      "cell_type": "code",
      "source": [
        "print(f\"Model device: {next(model.parameters()).device}\")\n",
        "print(f\"Class weights device: {class_weights.device}\")"
      ],
      "metadata": {
        "trusted": true,
        "execution": {
          "iopub.status.busy": "2024-12-21T12:05:14.923175Z",
          "iopub.execute_input": "2024-12-21T12:05:14.923461Z",
          "iopub.status.idle": "2024-12-21T12:05:14.928081Z",
          "shell.execute_reply.started": "2024-12-21T12:05:14.923437Z",
          "shell.execute_reply": "2024-12-21T12:05:14.927188Z"
        },
        "colab": {
          "base_uri": "https://localhost:8080/"
        },
        "id": "oZSfhpjtTR-x",
        "outputId": "6f2a1967-8102-4176-c5ce-f0f325fec013"
      },
      "outputs": [
        {
          "output_type": "stream",
          "name": "stdout",
          "text": [
            "Model device: cuda:0\n",
            "Class weights device: cuda:0\n"
          ]
        }
      ],
      "execution_count": null
    },
    {
      "cell_type": "code",
      "source": [
        "wandb.login()"
      ],
      "metadata": {
        "trusted": true,
        "execution": {
          "iopub.status.busy": "2024-12-21T09:40:58.824911Z",
          "iopub.execute_input": "2024-12-21T09:40:58.825224Z",
          "iopub.status.idle": "2024-12-21T09:41:01.278792Z",
          "shell.execute_reply.started": "2024-12-21T09:40:58.825198Z",
          "shell.execute_reply": "2024-12-21T09:41:01.277905Z"
        },
        "colab": {
          "base_uri": "https://localhost:8080/"
        },
        "id": "cuBxEjmqTR-x",
        "outputId": "0e75b9fd-16cc-4d5b-b009-123af4a4a4cc"
      },
      "outputs": [
        {
          "output_type": "stream",
          "name": "stderr",
          "text": [
            "\u001b[34m\u001b[1mwandb\u001b[0m: Currently logged in as: \u001b[33maulias\u001b[0m (\u001b[33maulias-\u001b[0m). Use \u001b[1m`wandb login --relogin`\u001b[0m to force relogin\n"
          ]
        },
        {
          "output_type": "execute_result",
          "data": {
            "text/plain": [
              "True"
            ]
          },
          "metadata": {},
          "execution_count": 19
        }
      ],
      "execution_count": null
    },
    {
      "cell_type": "markdown",
      "source": [
        "### Setup W&B Hyperparameter Configuration"
      ],
      "metadata": {
        "id": "5kZB6BuojJ6D"
      }
    },
    {
      "cell_type": "code",
      "source": [
        "configs = {\n",
        "        \"learning_rate\": 0.0001,\n",
        "        \"optimizer\": \"adam\",\n",
        "        \"dropout_rate\": 0.4,\n",
        "        \"epochs\": 15,\n",
        "        \"num_classes\":6}\n",
        "\n",
        "if configs[\"optimizer\"] == 'adam':\n",
        "    optimizer = optim.Adam(model.parameters(), lr=configs[\"learning_rate\"])\n",
        "elif configs[\"optimizer\"] == 'sgd':\n",
        "    optimizer = optim.SGD(\n",
        "        model.parameters(),\n",
        "        lr=configs[\"learning_rate\"],)"
      ],
      "metadata": {
        "trusted": true,
        "execution": {
          "iopub.status.busy": "2024-12-21T12:46:33.587808Z",
          "iopub.execute_input": "2024-12-21T12:46:33.588123Z",
          "iopub.status.idle": "2024-12-21T12:46:33.592236Z",
          "shell.execute_reply.started": "2024-12-21T12:46:33.588073Z",
          "shell.execute_reply": "2024-12-21T12:46:33.591382Z"
        },
        "id": "zJpxXnJqTR-x"
      },
      "outputs": [],
      "execution_count": null
    },
    {
      "cell_type": "code",
      "source": [
        "wandb.init(\n",
        "    project=\"trash-image-classification\",\n",
        "    name=f\"run_resnet18_\",\n",
        "    config=configs,\n",
        "    notes=\"Training ResNet with class weights\"\n",
        ")"
      ],
      "metadata": {
        "trusted": true,
        "execution": {
          "iopub.status.busy": "2024-12-21T12:46:47.673798Z",
          "iopub.execute_input": "2024-12-21T12:46:47.674091Z"
        },
        "colab": {
          "base_uri": "https://localhost:8080/",
          "height": 125
        },
        "id": "P2-LTNXPTR-x",
        "outputId": "294e9049-4068-444f-b6a3-933c0157913f"
      },
      "outputs": [
        {
          "output_type": "display_data",
          "data": {
            "text/plain": [
              "<IPython.core.display.HTML object>"
            ],
            "text/html": [
              "Tracking run with wandb version 0.19.1"
            ]
          },
          "metadata": {}
        },
        {
          "output_type": "display_data",
          "data": {
            "text/plain": [
              "<IPython.core.display.HTML object>"
            ],
            "text/html": [
              "Run data is saved locally in <code>/content/wandb/run-20241222_035743-s6qtzsb2</code>"
            ]
          },
          "metadata": {}
        },
        {
          "output_type": "display_data",
          "data": {
            "text/plain": [
              "<IPython.core.display.HTML object>"
            ],
            "text/html": [
              "Syncing run <strong><a href='https://wandb.ai/aulias-/trash-image-classification/runs/s6qtzsb2' target=\"_blank\">run_resnet18</a></strong> to <a href='https://wandb.ai/aulias-/trash-image-classification' target=\"_blank\">Weights & Biases</a> (<a href='https://wandb.me/developer-guide' target=\"_blank\">docs</a>)<br>"
            ]
          },
          "metadata": {}
        },
        {
          "output_type": "display_data",
          "data": {
            "text/plain": [
              "<IPython.core.display.HTML object>"
            ],
            "text/html": [
              " View project at <a href='https://wandb.ai/aulias-/trash-image-classification' target=\"_blank\">https://wandb.ai/aulias-/trash-image-classification</a>"
            ]
          },
          "metadata": {}
        },
        {
          "output_type": "display_data",
          "data": {
            "text/plain": [
              "<IPython.core.display.HTML object>"
            ],
            "text/html": [
              " View run at <a href='https://wandb.ai/aulias-/trash-image-classification/runs/s6qtzsb2' target=\"_blank\">https://wandb.ai/aulias-/trash-image-classification/runs/s6qtzsb2</a>"
            ]
          },
          "metadata": {}
        },
        {
          "output_type": "execute_result",
          "data": {
            "text/html": [
              "<button onClick=\"this.nextSibling.style.display='block';this.style.display='none';\">Display W&B run</button><iframe src='https://wandb.ai/aulias-/trash-image-classification/runs/s6qtzsb2?jupyter=true' style='border:none;width:100%;height:420px;display:none;'></iframe>"
            ],
            "text/plain": [
              "<wandb.sdk.wandb_run.Run at 0x7c028175cf10>"
            ]
          },
          "metadata": {},
          "execution_count": 22
        }
      ],
      "execution_count": null
    },
    {
      "cell_type": "markdown",
      "source": [
        "### Training"
      ],
      "metadata": {
        "id": "XEnzasNejVM_"
      }
    },
    {
      "cell_type": "code",
      "source": [
        "best_acc = 0.0\n",
        "for epoch in range(configs[\"epochs\"]):\n",
        "        print(f'\\nEpoch {epoch+1}/{configs[\"epochs\"]}')\n",
        "        print('-' * 10)\n",
        "\n",
        "        # Training phase\n",
        "        model.train()\n",
        "        running_loss = 0.0\n",
        "        epoch_loss = 0.0\n",
        "        correct_train = 0\n",
        "        total_train = 0\n",
        "\n",
        "        for batch_idx, (images, labels) in enumerate(train_loader):\n",
        "            images, labels = images.to(device), labels.to(device)\n",
        "            optimizer.zero_grad()\n",
        "            outputs = model(images)\n",
        "            loss = criterion(outputs, labels)\n",
        "            loss.backward()\n",
        "            optimizer.step()\n",
        "\n",
        "            # Accumulate both running and epoch loss\n",
        "            running_loss += loss.item()\n",
        "            epoch_loss += loss.item()\n",
        "\n",
        "            _, predicted = torch.max(outputs, 1)\n",
        "            total_train += labels.size(0)\n",
        "            correct_train += (predicted == labels).sum().item()\n",
        "\n",
        "            if batch_idx % 20 == 19:\n",
        "                avg_loss = running_loss / 20\n",
        "                train_accuracy = 100 * correct_train / total_train\n",
        "                print(f'Batch {batch_idx+1}, Loss: {avg_loss:.4f}, Accuracy: {train_accuracy:.2f}%')\n",
        "                wandb.log({\n",
        "                    \"batch_loss\": avg_loss,\n",
        "                    \"epoch\": epoch,\n",
        "                    \"batch\": batch_idx,\n",
        "                    \"batch_accuracy\": train_accuracy\n",
        "                })\n",
        "                running_loss = 0.0\n",
        "\n",
        "        epoch_loss = epoch_loss / len(train_loader)\n",
        "        epoch_accuracy = 100 * correct_train / total_train\n",
        "\n",
        "        # Validation phase\n",
        "        model.eval()\n",
        "        val_loss = 0.0\n",
        "        correct = 0\n",
        "        total = 0\n",
        "        class_correct = {i: 0 for i in range(configs[\"num_classes\"])}\n",
        "        class_total = {i: 0 for i in range(configs[\"num_classes\"])}\n",
        "\n",
        "        with torch.no_grad():\n",
        "            for images, labels in val_loader:\n",
        "                images, labels = images.to(device), labels.to(device)\n",
        "                outputs = model(images)\n",
        "                loss = criterion(outputs, labels)\n",
        "                val_loss += loss.item()\n",
        "\n",
        "                _, predicted = torch.max(outputs, 1)\n",
        "                total += labels.size(0)\n",
        "                correct += (predicted == labels).sum().item()\n",
        "\n",
        "                for label, pred in zip(labels, predicted):\n",
        "                    if label == pred:\n",
        "                        class_correct[label.item()] += 1\n",
        "                    class_total[label.item()] += 1\n",
        "\n",
        "        val_loss /= len(val_loader)\n",
        "        val_accuracy = 100 * correct / total\n",
        "        class_accuracies = {\n",
        "            f\"class_{i}\": 100 * class_correct[i] / class_total[i] if class_total[i] > 0 else 0\n",
        "            for i in range(configs[\"num_classes\"])\n",
        "        }\n",
        "\n",
        "        print(f'\\nEpoch Summary:')\n",
        "        print(f'Training Loss: {epoch_loss:.4f}, Training Accuracy: {epoch_accuracy:.2f}%')\n",
        "        print(f'Validation Loss: {val_loss:.4f}, Validation Accuracy: {val_accuracy:.2f}%')\n",
        "        for class_idx, acc in class_accuracies.items():\n",
        "            print(f\"{class_idx}: {acc:.2f}%\")\n",
        "\n",
        "        wandb.log({\n",
        "            \"epoch\": epoch,\n",
        "            \"train_loss\": epoch_loss,\n",
        "            \"train_accuracy\": epoch_accuracy,\n",
        "            \"val_loss\": val_loss,\n",
        "            \"val_accuracy\": val_accuracy,\n",
        "            **{f\"class_{k}_accuracy\": v for k, v in class_accuracies.items()}\n",
        "        })\n",
        "\n",
        "        if val_accuracy > best_acc:\n",
        "            best_acc = val_accuracy\n",
        "            torch.save({\n",
        "                'epoch': epoch,\n",
        "                'model_state_dict': model.state_dict(),\n",
        "                'optimizer_state_dict': optimizer.state_dict(),\n",
        "                'accuracy': val_accuracy\n",
        "            }, 'best_model.pth')\n",
        "            if wandb.run:\n",
        "                wandb.save('best_model.pth')\n",
        "            print(f\"\\nCheckpoint saved: 'best_model.pth'\")"
      ],
      "metadata": {
        "trusted": true,
        "execution": {
          "iopub.status.busy": "2024-12-21T12:44:01.836433Z",
          "iopub.execute_input": "2024-12-21T12:44:01.836764Z",
          "iopub.status.idle": "2024-12-21T12:44:07.170639Z",
          "shell.execute_reply.started": "2024-12-21T12:44:01.836734Z",
          "shell.execute_reply": "2024-12-21T12:44:07.169935Z"
        },
        "colab": {
          "base_uri": "https://localhost:8080/"
        },
        "id": "iElN94yiTR-z",
        "outputId": "dc490dda-01b5-494d-a3b9-f7e8a9f5c923"
      },
      "outputs": [
        {
          "output_type": "stream",
          "name": "stdout",
          "text": [
            "\n",
            "Epoch 1/1\n",
            "----------\n",
            "Batch 20, Loss: 1.6072, Accuracy: 44.38%\n",
            "Batch 40, Loss: 1.2667, Accuracy: 51.72%\n",
            "Batch 60, Loss: 1.0483, Accuracy: 56.56%\n",
            "Batch 80, Loss: 0.8558, Accuracy: 59.30%\n",
            "Batch 100, Loss: 0.7025, Accuracy: 62.75%\n",
            "Batch 120, Loss: 0.6752, Accuracy: 65.52%\n",
            "Batch 140, Loss: 0.6470, Accuracy: 67.01%\n",
            "Batch 160, Loss: 0.5565, Accuracy: 69.26%\n",
            "Batch 180, Loss: 0.5872, Accuracy: 70.45%\n",
            "Batch 200, Loss: 0.4151, Accuracy: 72.22%\n",
            "Batch 220, Loss: 0.5070, Accuracy: 72.93%\n",
            "Batch 240, Loss: 0.5713, Accuracy: 73.67%\n",
            "\n",
            "Epoch Summary:\n",
            "Training Loss: 0.7716, Training Accuracy: 74.28%\n",
            "Validation Loss: 0.3025, Validation Accuracy: 90.90%\n",
            "class_0: 91.30%\n",
            "class_1: 84.50%\n",
            "class_2: 95.73%\n",
            "class_3: 94.12%\n",
            "class_4: 89.64%\n",
            "class_5: 89.09%\n",
            "\n",
            "Checkpoint saved: 'best_model.pth'\n"
          ]
        }
      ],
      "execution_count": null
    },
    {
      "cell_type": "code",
      "source": [
        "wandb.finish()"
      ],
      "metadata": {
        "id": "hktaefTSvWpQ"
      },
      "execution_count": null,
      "outputs": []
    },
    {
      "cell_type": "markdown",
      "source": [
        "### Evaluation"
      ],
      "metadata": {
        "id": "9CGPJcByjYf4"
      }
    },
    {
      "cell_type": "code",
      "source": [
        "checkpoint = torch.load('/content/best_model.pth', map_location='cpu')\n",
        "model.load_state_dict(checkpoint['model_state_dict'])"
      ],
      "metadata": {
        "id": "D1FFasq-QaK4",
        "colab": {
          "base_uri": "https://localhost:8080/"
        },
        "outputId": "d531ab13-98d7-4c04-ee5a-b57a83a30a3d"
      },
      "execution_count": null,
      "outputs": [
        {
          "output_type": "stream",
          "name": "stderr",
          "text": [
            "<ipython-input-27-b1ff9438691e>:1: FutureWarning: You are using `torch.load` with `weights_only=False` (the current default value), which uses the default pickle module implicitly. It is possible to construct malicious pickle data which will execute arbitrary code during unpickling (See https://github.com/pytorch/pytorch/blob/main/SECURITY.md#untrusted-models for more details). In a future release, the default value for `weights_only` will be flipped to `True`. This limits the functions that could be executed during unpickling. Arbitrary objects will no longer be allowed to be loaded via this mode unless they are explicitly allowlisted by the user via `torch.serialization.add_safe_globals`. We recommend you start setting `weights_only=True` for any use case where you don't have full control of the loaded file. Please open an issue on GitHub for any issues related to this experimental feature.\n",
            "  checkpoint = torch.load('/content/best_model.pth', map_location='cpu')\n"
          ]
        },
        {
          "output_type": "execute_result",
          "data": {
            "text/plain": [
              "<All keys matched successfully>"
            ]
          },
          "metadata": {},
          "execution_count": 27
        }
      ]
    },
    {
      "cell_type": "code",
      "source": [
        "device = torch.device(\"cuda\" if torch.cuda.is_available() else \"cpu\")\n",
        "model.to(device)\n",
        "\n",
        "all_preds = []\n",
        "all_labels = []\n",
        "test_correct = 0\n",
        "test_total = 0\n",
        "\n",
        "with torch.no_grad():\n",
        "    model.eval()\n",
        "    for images, labels in val_loader:\n",
        "        images, labels = images.to(device), labels.to(device)\n",
        "\n",
        "        outputs = model(images)\n",
        "        _, predicted = torch.max(outputs, 1)\n",
        "\n",
        "        all_preds.extend(predicted.cpu().numpy())\n",
        "        all_labels.extend(labels.cpu().numpy())\n",
        "\n",
        "        test_total += labels.size(0)\n",
        "        test_correct += (predicted == labels).sum().item()\n",
        "test_accuracy = 100 * test_correct / test_total\n",
        "print(f'Test Accuracy: {test_accuracy:.2f}%')"
      ],
      "metadata": {
        "id": "ZbDceBOGRk2n",
        "colab": {
          "base_uri": "https://localhost:8080/"
        },
        "outputId": "37a92586-764e-4cf0-8e27-aa77028eaed5"
      },
      "execution_count": null,
      "outputs": [
        {
          "output_type": "stream",
          "name": "stdout",
          "text": [
            "Test Accuracy: 90.90%\n"
          ]
        }
      ]
    },
    {
      "cell_type": "code",
      "source": [
        "class_names = ['cardboard', 'glass', 'metal', 'paper', 'plastic', 'trash']\n",
        "cm = confusion_matrix(all_labels, all_preds)\n",
        "\n",
        "plt.figure(figsize=(10, 8))\n",
        "sns.heatmap(cm, annot=True, fmt='d', cmap='Blues',\n",
        "            xticklabels=class_names,\n",
        "            yticklabels=class_names)\n",
        "plt.xlabel('Predicted')\n",
        "plt.ylabel('True')\n",
        "plt.title('Confusion Matrix')\n",
        "plt.show()"
      ],
      "metadata": {
        "id": "sjV6gLerSBu6",
        "colab": {
          "base_uri": "https://localhost:8080/",
          "height": 718
        },
        "outputId": "c853134f-c221-4308-acd5-1f23c312894a"
      },
      "execution_count": null,
      "outputs": [
        {
          "output_type": "display_data",
          "data": {
            "text/plain": [
              "<Figure size 1000x800 with 2 Axes>"
            ],
            "image/png": "[encoded data removed]"
          },
          "metadata": {}
        }
      ]
    },
    {
      "cell_type": "code",
      "source": [
        "print(\"\\nClassification Report:\")\n",
        "print(classification_report(all_labels, all_preds, target_names=class_names))"
      ],
      "metadata": {
        "id": "a0B5DdWPT_7P",
        "colab": {
          "base_uri": "https://localhost:8080/"
        },
        "outputId": "eb799f6a-7fb2-405c-a8d8-c226c903a209"
      },
      "execution_count": null,
      "outputs": [
        {
          "output_type": "stream",
          "name": "stdout",
          "text": [
            "\n",
            "Classification Report:\n",
            "              precision    recall  f1-score   support\n",
            "\n",
            "   cardboard       0.99      0.91      0.95       161\n",
            "       glass       0.91      0.84      0.88       200\n",
            "       metal       0.83      0.96      0.89       164\n",
            "       paper       0.96      0.94      0.95       238\n",
            "     plastic       0.90      0.90      0.90       193\n",
            "       trash       0.78      0.89      0.83        55\n",
            "\n",
            "    accuracy                           0.91      1011\n",
            "   macro avg       0.90      0.91      0.90      1011\n",
            "weighted avg       0.91      0.91      0.91      1011\n",
            "\n"
          ]
        }
      ]
    }
  ]
}